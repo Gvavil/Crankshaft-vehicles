{
 "cells": [
  {
   "cell_type": "markdown",
   "metadata": {},
   "source": [
    "# ¿Qué vende un coche?\n",
    "\n",
    "Soy un analista en Crankshaft List. Cientos de anuncios gratuitos de vehículos se publican en este sitio web cada día. Necesitamos estudiar los datos recopilados durante los últimos años y determinar qué factores influyen en el precio de un vehículo.\n",
    "\n",
    "El objetivo principal de este análisis es identificar los factores que tienen la mayor influencia en el precio de los vehículos publicados en Crankshaft List. Al conocer estos factores, podremos proporcionar a nuestros usuarios información valiosa que les permita tomar decisiones más informadas y eficientes en el mercado de vehículos usados.\n",
    "\n",
    "Además, este análisis también tiene como objetivo ayudar a los vendedores a establecer precios más competitivos para sus vehículos, lo que puede aumentar la probabilidad de que se vendan más rápido y a un precio justo.\n",
    "\n",
    "En resumen, los objetivos principales de este análisis son:\n",
    "\n",
    "1. Identificar los factores que más influyen en el precio de los vehículos en Crankshaft List.\n",
    "2. Proporcionar información valiosa a los usuarios de nuestro sitio web para que puedan tomar decisiones informadas.\n",
    "3. Ayudar a los vendedores a establecer precios más competitivos para sus vehículos y aumentar la probabilidad de venta."
   ]
  },
  {
   "cell_type": "markdown",
   "metadata": {},
   "source": [
    "## Inicialización"
   ]
  },
  {
   "cell_type": "markdown",
   "metadata": {},
   "source": [
    "Carguemos las librerías que son necesarias para el proyecto. "
   ]
  },
  {
   "cell_type": "code",
   "execution_count": 1,
   "metadata": {},
   "outputs": [],
   "source": [
    "# Cargamos todas las librerías\n",
    "import pandas as pd\n",
    "\n",
    "import numpy as np\n",
    "\n",
    "import matplotlib.pyplot as plt\n",
    "\n",
    "import seaborn as sb\n",
    "\n",
    "from pandas.plotting import scatter_matrix"
   ]
  },
  {
   "cell_type": "markdown",
   "metadata": {},
   "source": [
    "### Cargar datos"
   ]
  },
  {
   "cell_type": "markdown",
   "metadata": {},
   "source": [
    "Carguemos los datos del proyecto y veamos la información general"
   ]
  },
  {
   "cell_type": "code",
   "execution_count": 2,
   "metadata": {},
   "outputs": [],
   "source": [
    "# Cargamos el archivo de datos en un DataFrame\n",
    "df = pd.read_csv('/datasets/vehicles_us.csv') \n"
   ]
  },
  {
   "cell_type": "markdown",
   "metadata": {},
   "source": [
    "### Explorar datos iniciales"
   ]
  },
  {
   "cell_type": "markdown",
   "metadata": {},
   "source": [
    "El dataset contiene los siguientes campos:\n",
    "- `price`\n",
    "- `model_year`\n",
    "- `model`\n",
    "- `condition`\n",
    "- `cylinders`\n",
    "- `fuel` — gasolina, diesel, etc.\n",
    "- `odometer` — el millaje del vehículo cuando el anuncio fue publicado\n",
    "- `transmission`\n",
    "- `paint_color`\n",
    "- `is_4wd` — si el vehículo tiene tracción a las 4 ruedas (tipo Booleano)\n",
    "- `date_posted` — la fecha en la que el anuncio fue publicado\n",
    "- `days_listed` — desde la publicación hasta que se elimina\n"
   ]
  },
  {
   "cell_type": "code",
   "execution_count": 3,
   "metadata": {
    "scrolled": true
   },
   "outputs": [
    {
     "name": "stdout",
     "output_type": "stream",
     "text": [
      "<class 'pandas.core.frame.DataFrame'>\n",
      "RangeIndex: 51525 entries, 0 to 51524\n",
      "Data columns (total 13 columns):\n",
      " #   Column        Non-Null Count  Dtype  \n",
      "---  ------        --------------  -----  \n",
      " 0   price         51525 non-null  int64  \n",
      " 1   model_year    47906 non-null  float64\n",
      " 2   model         51525 non-null  object \n",
      " 3   condition     51525 non-null  object \n",
      " 4   cylinders     46265 non-null  float64\n",
      " 5   fuel          51525 non-null  object \n",
      " 6   odometer      43633 non-null  float64\n",
      " 7   transmission  51525 non-null  object \n",
      " 8   type          51525 non-null  object \n",
      " 9   paint_color   42258 non-null  object \n",
      " 10  is_4wd        25572 non-null  float64\n",
      " 11  date_posted   51525 non-null  object \n",
      " 12  days_listed   51525 non-null  int64  \n",
      "dtypes: float64(4), int64(2), object(7)\n",
      "memory usage: 5.1+ MB\n"
     ]
    }
   ],
   "source": [
    "# imprimos la información general/resumida sobre el DataFrame\n",
    "df.info()\n"
   ]
  },
  {
   "cell_type": "code",
   "execution_count": 4,
   "metadata": {},
   "outputs": [
    {
     "data": {
      "text/html": [
       "<div>\n",
       "<style scoped>\n",
       "    .dataframe tbody tr th:only-of-type {\n",
       "        vertical-align: middle;\n",
       "    }\n",
       "\n",
       "    .dataframe tbody tr th {\n",
       "        vertical-align: top;\n",
       "    }\n",
       "\n",
       "    .dataframe thead th {\n",
       "        text-align: right;\n",
       "    }\n",
       "</style>\n",
       "<table border=\"1\" class=\"dataframe\">\n",
       "  <thead>\n",
       "    <tr style=\"text-align: right;\">\n",
       "      <th></th>\n",
       "      <th>price</th>\n",
       "      <th>model_year</th>\n",
       "      <th>cylinders</th>\n",
       "      <th>odometer</th>\n",
       "      <th>is_4wd</th>\n",
       "      <th>days_listed</th>\n",
       "    </tr>\n",
       "  </thead>\n",
       "  <tbody>\n",
       "    <tr>\n",
       "      <th>count</th>\n",
       "      <td>51525.000000</td>\n",
       "      <td>47906.000000</td>\n",
       "      <td>46265.000000</td>\n",
       "      <td>43633.000000</td>\n",
       "      <td>25572.0</td>\n",
       "      <td>51525.00000</td>\n",
       "    </tr>\n",
       "    <tr>\n",
       "      <th>mean</th>\n",
       "      <td>12132.464920</td>\n",
       "      <td>2009.750470</td>\n",
       "      <td>6.125235</td>\n",
       "      <td>115553.461738</td>\n",
       "      <td>1.0</td>\n",
       "      <td>39.55476</td>\n",
       "    </tr>\n",
       "    <tr>\n",
       "      <th>std</th>\n",
       "      <td>10040.803015</td>\n",
       "      <td>6.282065</td>\n",
       "      <td>1.660360</td>\n",
       "      <td>65094.611341</td>\n",
       "      <td>0.0</td>\n",
       "      <td>28.20427</td>\n",
       "    </tr>\n",
       "    <tr>\n",
       "      <th>min</th>\n",
       "      <td>1.000000</td>\n",
       "      <td>1908.000000</td>\n",
       "      <td>3.000000</td>\n",
       "      <td>0.000000</td>\n",
       "      <td>1.0</td>\n",
       "      <td>0.00000</td>\n",
       "    </tr>\n",
       "    <tr>\n",
       "      <th>25%</th>\n",
       "      <td>5000.000000</td>\n",
       "      <td>2006.000000</td>\n",
       "      <td>4.000000</td>\n",
       "      <td>70000.000000</td>\n",
       "      <td>1.0</td>\n",
       "      <td>19.00000</td>\n",
       "    </tr>\n",
       "    <tr>\n",
       "      <th>50%</th>\n",
       "      <td>9000.000000</td>\n",
       "      <td>2011.000000</td>\n",
       "      <td>6.000000</td>\n",
       "      <td>113000.000000</td>\n",
       "      <td>1.0</td>\n",
       "      <td>33.00000</td>\n",
       "    </tr>\n",
       "    <tr>\n",
       "      <th>75%</th>\n",
       "      <td>16839.000000</td>\n",
       "      <td>2014.000000</td>\n",
       "      <td>8.000000</td>\n",
       "      <td>155000.000000</td>\n",
       "      <td>1.0</td>\n",
       "      <td>53.00000</td>\n",
       "    </tr>\n",
       "    <tr>\n",
       "      <th>max</th>\n",
       "      <td>375000.000000</td>\n",
       "      <td>2019.000000</td>\n",
       "      <td>12.000000</td>\n",
       "      <td>990000.000000</td>\n",
       "      <td>1.0</td>\n",
       "      <td>271.00000</td>\n",
       "    </tr>\n",
       "  </tbody>\n",
       "</table>\n",
       "</div>"
      ],
      "text/plain": [
       "               price    model_year     cylinders       odometer   is_4wd  \\\n",
       "count   51525.000000  47906.000000  46265.000000   43633.000000  25572.0   \n",
       "mean    12132.464920   2009.750470      6.125235  115553.461738      1.0   \n",
       "std     10040.803015      6.282065      1.660360   65094.611341      0.0   \n",
       "min         1.000000   1908.000000      3.000000       0.000000      1.0   \n",
       "25%      5000.000000   2006.000000      4.000000   70000.000000      1.0   \n",
       "50%      9000.000000   2011.000000      6.000000  113000.000000      1.0   \n",
       "75%     16839.000000   2014.000000      8.000000  155000.000000      1.0   \n",
       "max    375000.000000   2019.000000     12.000000  990000.000000      1.0   \n",
       "\n",
       "       days_listed  \n",
       "count  51525.00000  \n",
       "mean      39.55476  \n",
       "std       28.20427  \n",
       "min        0.00000  \n",
       "25%       19.00000  \n",
       "50%       33.00000  \n",
       "75%       53.00000  \n",
       "max      271.00000  "
      ]
     },
     "execution_count": 4,
     "metadata": {},
     "output_type": "execute_result"
    }
   ],
   "source": [
    "# Veamos las estadísticas descriptivas de nuestros datos\n",
    "df.describe()"
   ]
  },
  {
   "cell_type": "code",
   "execution_count": 5,
   "metadata": {},
   "outputs": [
    {
     "data": {
      "text/html": [
       "<div>\n",
       "<style scoped>\n",
       "    .dataframe tbody tr th:only-of-type {\n",
       "        vertical-align: middle;\n",
       "    }\n",
       "\n",
       "    .dataframe tbody tr th {\n",
       "        vertical-align: top;\n",
       "    }\n",
       "\n",
       "    .dataframe thead th {\n",
       "        text-align: right;\n",
       "    }\n",
       "</style>\n",
       "<table border=\"1\" class=\"dataframe\">\n",
       "  <thead>\n",
       "    <tr style=\"text-align: right;\">\n",
       "      <th></th>\n",
       "      <th>price</th>\n",
       "      <th>model_year</th>\n",
       "      <th>model</th>\n",
       "      <th>condition</th>\n",
       "      <th>cylinders</th>\n",
       "      <th>fuel</th>\n",
       "      <th>odometer</th>\n",
       "      <th>transmission</th>\n",
       "      <th>type</th>\n",
       "      <th>paint_color</th>\n",
       "      <th>is_4wd</th>\n",
       "      <th>date_posted</th>\n",
       "      <th>days_listed</th>\n",
       "    </tr>\n",
       "  </thead>\n",
       "  <tbody>\n",
       "    <tr>\n",
       "      <th>0</th>\n",
       "      <td>9400</td>\n",
       "      <td>2011.0</td>\n",
       "      <td>bmw x5</td>\n",
       "      <td>good</td>\n",
       "      <td>6.0</td>\n",
       "      <td>gas</td>\n",
       "      <td>145000.0</td>\n",
       "      <td>automatic</td>\n",
       "      <td>SUV</td>\n",
       "      <td>NaN</td>\n",
       "      <td>1.0</td>\n",
       "      <td>2018-06-23</td>\n",
       "      <td>19</td>\n",
       "    </tr>\n",
       "    <tr>\n",
       "      <th>1</th>\n",
       "      <td>25500</td>\n",
       "      <td>NaN</td>\n",
       "      <td>ford f-150</td>\n",
       "      <td>good</td>\n",
       "      <td>6.0</td>\n",
       "      <td>gas</td>\n",
       "      <td>88705.0</td>\n",
       "      <td>automatic</td>\n",
       "      <td>pickup</td>\n",
       "      <td>white</td>\n",
       "      <td>1.0</td>\n",
       "      <td>2018-10-19</td>\n",
       "      <td>50</td>\n",
       "    </tr>\n",
       "    <tr>\n",
       "      <th>2</th>\n",
       "      <td>5500</td>\n",
       "      <td>2013.0</td>\n",
       "      <td>hyundai sonata</td>\n",
       "      <td>like new</td>\n",
       "      <td>4.0</td>\n",
       "      <td>gas</td>\n",
       "      <td>110000.0</td>\n",
       "      <td>automatic</td>\n",
       "      <td>sedan</td>\n",
       "      <td>red</td>\n",
       "      <td>NaN</td>\n",
       "      <td>2019-02-07</td>\n",
       "      <td>79</td>\n",
       "    </tr>\n",
       "    <tr>\n",
       "      <th>3</th>\n",
       "      <td>1500</td>\n",
       "      <td>2003.0</td>\n",
       "      <td>ford f-150</td>\n",
       "      <td>fair</td>\n",
       "      <td>8.0</td>\n",
       "      <td>gas</td>\n",
       "      <td>NaN</td>\n",
       "      <td>automatic</td>\n",
       "      <td>pickup</td>\n",
       "      <td>NaN</td>\n",
       "      <td>NaN</td>\n",
       "      <td>2019-03-22</td>\n",
       "      <td>9</td>\n",
       "    </tr>\n",
       "    <tr>\n",
       "      <th>4</th>\n",
       "      <td>14900</td>\n",
       "      <td>2017.0</td>\n",
       "      <td>chrysler 200</td>\n",
       "      <td>excellent</td>\n",
       "      <td>4.0</td>\n",
       "      <td>gas</td>\n",
       "      <td>80903.0</td>\n",
       "      <td>automatic</td>\n",
       "      <td>sedan</td>\n",
       "      <td>black</td>\n",
       "      <td>NaN</td>\n",
       "      <td>2019-04-02</td>\n",
       "      <td>28</td>\n",
       "    </tr>\n",
       "  </tbody>\n",
       "</table>\n",
       "</div>"
      ],
      "text/plain": [
       "   price  model_year           model  condition  cylinders fuel  odometer  \\\n",
       "0   9400      2011.0          bmw x5       good        6.0  gas  145000.0   \n",
       "1  25500         NaN      ford f-150       good        6.0  gas   88705.0   \n",
       "2   5500      2013.0  hyundai sonata   like new        4.0  gas  110000.0   \n",
       "3   1500      2003.0      ford f-150       fair        8.0  gas       NaN   \n",
       "4  14900      2017.0    chrysler 200  excellent        4.0  gas   80903.0   \n",
       "\n",
       "  transmission    type paint_color  is_4wd date_posted  days_listed  \n",
       "0    automatic     SUV         NaN     1.0  2018-06-23           19  \n",
       "1    automatic  pickup       white     1.0  2018-10-19           50  \n",
       "2    automatic   sedan         red     NaN  2019-02-07           79  \n",
       "3    automatic  pickup         NaN     NaN  2019-03-22            9  \n",
       "4    automatic   sedan       black     NaN  2019-04-02           28  "
      ]
     },
     "execution_count": 5,
     "metadata": {},
     "output_type": "execute_result"
    }
   ],
   "source": [
    "# imprimimos una muestra de datos\n",
    "df.head()\n"
   ]
  },
  {
   "cell_type": "markdown",
   "metadata": {},
   "source": [
    "A primera impresión podemos observar que tenemos valores nulos (NaN), sobretodo en la columna **'is_4wd'**. Busquemos cuantos valores nulos tenemos en nuestro dataset. De ahí en mas, no podemos ver si existen duplicados o datos ingresados de manera incorrecta. Tendremos que buscar paso a paso."
   ]
  },
  {
   "cell_type": "code",
   "execution_count": 6,
   "metadata": {
    "scrolled": true
   },
   "outputs": [
    {
     "data": {
      "text/plain": [
       "price               0\n",
       "model_year       3619\n",
       "model               0\n",
       "condition           0\n",
       "cylinders        5260\n",
       "fuel                0\n",
       "odometer         7892\n",
       "transmission        0\n",
       "type                0\n",
       "paint_color      9267\n",
       "is_4wd          25953\n",
       "date_posted         0\n",
       "days_listed         0\n",
       "dtype: int64"
      ]
     },
     "execution_count": 6,
     "metadata": {},
     "output_type": "execute_result"
    }
   ],
   "source": [
    "df.isna().sum()"
   ]
  },
  {
   "cell_type": "code",
   "execution_count": 7,
   "metadata": {},
   "outputs": [
    {
     "name": "stdout",
     "output_type": "stream",
     "text": [
      "El porcentaje de los valores nulos de la columna is_4wd es de: 50.37 %\n"
     ]
    }
   ],
   "source": [
    "porcentaje = (25953/51525) * 100\n",
    "print(f'El porcentaje de los valores nulos de la columna is_4wd es de:', round(porcentaje, 2), '%')"
   ]
  },
  {
   "cell_type": "markdown",
   "metadata": {},
   "source": [
    "En la columna **is_4wd** tenemos un total de 25953 valores nulos, lo cual es un numero bastante grande, ya que representa el 50.37 % del conjunto de datos. Probablemente estos vehiculos no sean 4x4 es decir, tienen valor 0. "
   ]
  },
  {
   "cell_type": "code",
   "execution_count": 8,
   "metadata": {},
   "outputs": [
    {
     "data": {
      "text/plain": [
       "0"
      ]
     },
     "execution_count": 8,
     "metadata": {},
     "output_type": "execute_result"
    }
   ],
   "source": [
    "# Busquemos valores duplicados\n",
    "df.duplicated().sum()"
   ]
  },
  {
   "cell_type": "markdown",
   "metadata": {},
   "source": [
    "Vemos que el dataset **no cuenta con valores duplicados**, lo que hara nuestro análisis mas fácil"
   ]
  },
  {
   "cell_type": "code",
   "execution_count": 9,
   "metadata": {},
   "outputs": [
    {
     "data": {
      "text/plain": [
       "price             int64\n",
       "model_year      float64\n",
       "model            object\n",
       "condition        object\n",
       "cylinders       float64\n",
       "fuel             object\n",
       "odometer        float64\n",
       "transmission     object\n",
       "type             object\n",
       "paint_color      object\n",
       "is_4wd          float64\n",
       "date_posted      object\n",
       "days_listed       int64\n",
       "dtype: object"
      ]
     },
     "execution_count": 9,
     "metadata": {},
     "output_type": "execute_result"
    }
   ],
   "source": [
    "# Veamos el tipo de datos que contiene cada columna\n",
    "df.dtypes"
   ]
  },
  {
   "cell_type": "markdown",
   "metadata": {},
   "source": [
    "Como podemos ver en el conjunto de datos, tenemos diferentes tipo de datos a los que tenemos que poner atención, por ejemplo; en la columna **model_year** indica que tenemos valores tipo float, cuando deberían ser de tipo int64."
   ]
  },
  {
   "cell_type": "markdown",
   "metadata": {},
   "source": [
    "Ahora busquemos valores duplicados con diferente sintaxis"
   ]
  },
  {
   "cell_type": "code",
   "execution_count": 10,
   "metadata": {
    "scrolled": true
   },
   "outputs": [
    {
     "data": {
      "text/plain": [
       "array(['acura tl', 'bmw x5', 'buick enclave', 'cadillac escalade',\n",
       "       'chevrolet camaro', 'chevrolet camaro lt coupe 2d',\n",
       "       'chevrolet colorado', 'chevrolet corvette', 'chevrolet cruze',\n",
       "       'chevrolet equinox', 'chevrolet impala', 'chevrolet malibu',\n",
       "       'chevrolet silverado', 'chevrolet silverado 1500',\n",
       "       'chevrolet silverado 1500 crew', 'chevrolet silverado 2500hd',\n",
       "       'chevrolet silverado 3500hd', 'chevrolet suburban',\n",
       "       'chevrolet tahoe', 'chevrolet trailblazer', 'chevrolet traverse',\n",
       "       'chrysler 200', 'chrysler 300', 'chrysler town & country',\n",
       "       'dodge charger', 'dodge dakota', 'dodge grand caravan',\n",
       "       'ford econoline', 'ford edge', 'ford escape', 'ford expedition',\n",
       "       'ford explorer', 'ford f-150', 'ford f-250', 'ford f-250 sd',\n",
       "       'ford f-250 super duty', 'ford f-350 sd', 'ford f150',\n",
       "       'ford f150 supercrew cab xlt', 'ford f250', 'ford f250 super duty',\n",
       "       'ford f350', 'ford f350 super duty', 'ford focus', 'ford focus se',\n",
       "       'ford fusion', 'ford fusion se', 'ford mustang',\n",
       "       'ford mustang gt coupe 2d', 'ford ranger', 'ford taurus',\n",
       "       'gmc acadia', 'gmc sierra', 'gmc sierra 1500', 'gmc sierra 2500hd',\n",
       "       'gmc yukon', 'honda accord', 'honda civic', 'honda civic lx',\n",
       "       'honda cr-v', 'honda odyssey', 'honda pilot', 'hyundai elantra',\n",
       "       'hyundai santa fe', 'hyundai sonata', 'jeep cherokee',\n",
       "       'jeep grand cherokee', 'jeep grand cherokee laredo',\n",
       "       'jeep liberty', 'jeep wrangler', 'jeep wrangler unlimited',\n",
       "       'kia sorento', 'kia soul', 'mercedes-benz benze sprinter 2500',\n",
       "       'nissan altima', 'nissan frontier', 'nissan frontier crew cab sv',\n",
       "       'nissan maxima', 'nissan murano', 'nissan rogue', 'nissan sentra',\n",
       "       'nissan versa', 'ram 1500', 'ram 2500', 'ram 3500',\n",
       "       'subaru forester', 'subaru impreza', 'subaru outback',\n",
       "       'toyota 4runner', 'toyota camry', 'toyota camry le',\n",
       "       'toyota corolla', 'toyota highlander', 'toyota prius',\n",
       "       'toyota rav4', 'toyota sienna', 'toyota tacoma', 'toyota tundra',\n",
       "       'volkswagen jetta', 'volkswagen passat'], dtype=object)"
      ]
     },
     "execution_count": 10,
     "metadata": {},
     "output_type": "execute_result"
    }
   ],
   "source": [
    "df['model'].sort_values().unique()"
   ]
  },
  {
   "cell_type": "code",
   "execution_count": 11,
   "metadata": {},
   "outputs": [
    {
     "data": {
      "text/plain": [
       "array(['automatic', 'manual', 'other'], dtype=object)"
      ]
     },
     "execution_count": 11,
     "metadata": {},
     "output_type": "execute_result"
    }
   ],
   "source": [
    "df['transmission'].sort_values().unique()"
   ]
  },
  {
   "cell_type": "code",
   "execution_count": 12,
   "metadata": {},
   "outputs": [
    {
     "data": {
      "text/plain": [
       "array(['excellent', 'fair', 'good', 'like new', 'new', 'salvage'],\n",
       "      dtype=object)"
      ]
     },
     "execution_count": 12,
     "metadata": {},
     "output_type": "execute_result"
    }
   ],
   "source": [
    "df['condition'].sort_values().unique()"
   ]
  },
  {
   "cell_type": "code",
   "execution_count": 13,
   "metadata": {},
   "outputs": [
    {
     "data": {
      "text/plain": [
       "array(['SUV', 'bus', 'convertible', 'coupe', 'hatchback', 'mini-van',\n",
       "       'offroad', 'other', 'pickup', 'sedan', 'truck', 'van', 'wagon'],\n",
       "      dtype=object)"
      ]
     },
     "execution_count": 13,
     "metadata": {},
     "output_type": "execute_result"
    }
   ],
   "source": [
    "df['type'].sort_values().unique()"
   ]
  },
  {
   "cell_type": "markdown",
   "metadata": {},
   "source": [
    "### Conclusiones y siguientes pasos"
   ]
  },
  {
   "cell_type": "markdown",
   "metadata": {},
   "source": [
    "Podemos ver que las siguientes columnas: **'model_year', 'cylinders', 'odometer', 'paint_color', 'is_4wd' tienen valores nulos** que tendremos que tratar después de concluir la razón por la cual son nulos, es decir, tenemos que buscar una relación entre estos valores. A primera vista no parecen tener relación directa por las cantidades que se muestran en cada fila. Tengamos en cuenta que la columna que mas valores nulos tiene es **'is_4wd'**, como lo esperabamos.\n",
    "\n",
    "Investigamos acerca del tipo de transmisiones que existen y encontramos; **automatica, manual, CVT, y automatizada o secuencial**. Esperemos que 'other' en nuestra columna **transmission** se refiera a alguna de estas opciones.\n",
    "\n",
    "En la columna **'date_posted'** nos devuelve que tenemos datos tipo booleanos, los cuales tendremos que tratar mediante **datetime**. La columna **model_year** devuelve datos tipo decimales, tendremos que cambiarlos a enteros, al igual que en las columnas **cylinders** y **is_4wd**. Estos datos los trataremos en la parte de **Corrección de tipos de datos**."
   ]
  },
  {
   "cell_type": "markdown",
   "metadata": {},
   "source": [
    "## Tratar los valores ausentes (si hay)"
   ]
  },
  {
   "cell_type": "markdown",
   "metadata": {},
   "source": [
    "Estudiemos los valores ausentes para cada columna en más detalle."
   ]
  },
  {
   "cell_type": "code",
   "execution_count": 14,
   "metadata": {},
   "outputs": [],
   "source": [
    "nan_model = df['model_year'].isna().sum()"
   ]
  },
  {
   "cell_type": "code",
   "execution_count": 15,
   "metadata": {},
   "outputs": [
    {
     "name": "stdout",
     "output_type": "stream",
     "text": [
      "El porcentaje de los valores nulos de la columna model_year es de: 7.02 %\n"
     ]
    }
   ],
   "source": [
    "perc_model = nan_model/len(df) * 100\n",
    "print(f'El porcentaje de los valores nulos de la columna model_year es de:', round(perc_model, 2), '%')"
   ]
  },
  {
   "cell_type": "code",
   "execution_count": 16,
   "metadata": {},
   "outputs": [],
   "source": [
    "# Calculamos la mediana imputando con la columna 'model' para rellenar valores nulos \n",
    "model_year_median = df.groupby('model')['model_year'].transform('median')"
   ]
  },
  {
   "cell_type": "code",
   "execution_count": 17,
   "metadata": {},
   "outputs": [],
   "source": [
    "df['model_year'].fillna(model_year_median, inplace=True)"
   ]
  },
  {
   "cell_type": "markdown",
   "metadata": {},
   "source": [
    "Como el porcentaje de estos valores nulos es **menor del 10 %** del conjunto de datos, podríamos deshacernos de ellos, pero decidimos rellenar estos valores con la mediana de la imputación de las columnas **'model'** y **'model_year'**"
   ]
  },
  {
   "cell_type": "code",
   "execution_count": 18,
   "metadata": {},
   "outputs": [],
   "source": [
    "nan_cyl = df['cylinders'].isna().sum()"
   ]
  },
  {
   "cell_type": "code",
   "execution_count": 19,
   "metadata": {
    "scrolled": true
   },
   "outputs": [
    {
     "name": "stdout",
     "output_type": "stream",
     "text": [
      "El porcentaje de los valores nulos de la columna cylinders es de: 10.21 %\n"
     ]
    }
   ],
   "source": [
    "perc_cyl = nan_cyl/len(df) * 100\n",
    "print(f'El porcentaje de los valores nulos de la columna cylinders es de:', round(perc_cyl, 2), '%')"
   ]
  },
  {
   "cell_type": "code",
   "execution_count": 20,
   "metadata": {},
   "outputs": [],
   "source": [
    "# Calculamos la mediana imputando con la columna 'model' para rellenar valores nulos \n",
    "cylinders_median = df.groupby('model')['cylinders'].transform('median')"
   ]
  },
  {
   "cell_type": "code",
   "execution_count": 21,
   "metadata": {},
   "outputs": [],
   "source": [
    "df['cylinders'].fillna(cylinders_median, inplace=True)"
   ]
  },
  {
   "cell_type": "markdown",
   "metadata": {},
   "source": [
    "Decidimos rellenar estos valores con la mediana de la imputación de las columnas **'model'** y **'model_year'**"
   ]
  },
  {
   "cell_type": "code",
   "execution_count": 22,
   "metadata": {
    "scrolled": false
   },
   "outputs": [],
   "source": [
    "nan_paint = df['paint_color'].isna().sum()"
   ]
  },
  {
   "cell_type": "code",
   "execution_count": 23,
   "metadata": {},
   "outputs": [
    {
     "name": "stdout",
     "output_type": "stream",
     "text": [
      "El porcentaje de los valores nulos de la columna cylinders es de: 17.99 %\n"
     ]
    }
   ],
   "source": [
    "perc_paint = nan_paint/len(df) * 100\n",
    "print(f'El porcentaje de los valores nulos de la columna cylinders es de:', round(perc_paint, 2), '%')"
   ]
  },
  {
   "cell_type": "code",
   "execution_count": 24,
   "metadata": {},
   "outputs": [],
   "source": [
    "nan_odo = df['odometer'].isna().sum()"
   ]
  },
  {
   "cell_type": "code",
   "execution_count": 25,
   "metadata": {},
   "outputs": [
    {
     "name": "stdout",
     "output_type": "stream",
     "text": [
      "El porcentaje de los valores nulos de la columna cylinders es de: 15.32 %\n"
     ]
    }
   ],
   "source": [
    "perc_odo = nan_odo/len(df) * 100\n",
    "print(f'El porcentaje de los valores nulos de la columna cylinders es de:', round(perc_odo, 2), '%')"
   ]
  },
  {
   "cell_type": "markdown",
   "metadata": {},
   "source": [
    "Podemos ver que los valores nulos de las columnas **paint_color y odometer** superan el total del conjunto de datos por mucho, por lo que tendremos que tratarlos. Para la columna **paint_color** podemos crear una categoria extra, ya que nos será imposible utilizar una medida por tratarse de valores booleanos. Para la columna **odometer** podemos utilizar la media o mediana, segun nos indiquen los datos."
   ]
  },
  {
   "cell_type": "markdown",
   "metadata": {},
   "source": [
    "Como ya vimos las unicas columnas de las que podemos deshacernos, ahora si podemos continuar con los datos mencionados antes."
   ]
  },
  {
   "cell_type": "code",
   "execution_count": 26,
   "metadata": {
    "scrolled": true
   },
   "outputs": [
    {
     "name": "stdout",
     "output_type": "stream",
     "text": [
      "0\n",
      "0\n"
     ]
    }
   ],
   "source": [
    "print(df['cylinders'].isna().sum())\n",
    "print(df['model_year'].isna().sum())"
   ]
  },
  {
   "cell_type": "markdown",
   "metadata": {},
   "source": [
    "Ahora tratemos los valores de la columna **'is_4wd'** como lo hemos mencionado (hacemos referencia a la misma columna para hacer el cambio permanente.)"
   ]
  },
  {
   "cell_type": "code",
   "execution_count": 27,
   "metadata": {},
   "outputs": [],
   "source": [
    "df['is_4wd'] = df['is_4wd'].fillna(0)"
   ]
  },
  {
   "cell_type": "code",
   "execution_count": 28,
   "metadata": {},
   "outputs": [
    {
     "data": {
      "text/plain": [
       "0"
      ]
     },
     "execution_count": 28,
     "metadata": {},
     "output_type": "execute_result"
    }
   ],
   "source": [
    "df['is_4wd'].isna().sum()"
   ]
  },
  {
   "cell_type": "markdown",
   "metadata": {},
   "source": [
    "Tratemos la columna **'paint_color'** creando otra categoria"
   ]
  },
  {
   "cell_type": "code",
   "execution_count": 29,
   "metadata": {},
   "outputs": [],
   "source": [
    "df['paint_color'] = df['paint_color'].fillna('other')"
   ]
  },
  {
   "cell_type": "code",
   "execution_count": 30,
   "metadata": {},
   "outputs": [
    {
     "data": {
      "text/plain": [
       "0"
      ]
     },
     "execution_count": 30,
     "metadata": {},
     "output_type": "execute_result"
    }
   ],
   "source": [
    "df['paint_color'].isna().sum()"
   ]
  },
  {
   "cell_type": "markdown",
   "metadata": {},
   "source": [
    "Solamente nos falta tratar los valores de la columna **'odometer'** para poder tener nuestro dataset más limpio, hagamos una imputación basada en 'condition' para obtener la media y rellenar esos valores ausentes"
   ]
  },
  {
   "cell_type": "code",
   "execution_count": 31,
   "metadata": {},
   "outputs": [],
   "source": [
    "# Calculamos la mediana imputando con la columna 'condition' para rellenar valores nulos \n",
    "odo_median = df.groupby('condition')['odometer'].transform('median')"
   ]
  },
  {
   "cell_type": "code",
   "execution_count": 32,
   "metadata": {},
   "outputs": [],
   "source": [
    "df['odometer'].fillna(odo_median, inplace=True)"
   ]
  },
  {
   "cell_type": "markdown",
   "metadata": {},
   "source": [
    "Listo, tratamos los valores ausentes en las columnas de nuestro dataframe"
   ]
  },
  {
   "cell_type": "code",
   "execution_count": 33,
   "metadata": {},
   "outputs": [
    {
     "data": {
      "text/plain": [
       "price           0\n",
       "model_year      0\n",
       "model           0\n",
       "condition       0\n",
       "cylinders       0\n",
       "fuel            0\n",
       "odometer        0\n",
       "transmission    0\n",
       "type            0\n",
       "paint_color     0\n",
       "is_4wd          0\n",
       "date_posted     0\n",
       "days_listed     0\n",
       "dtype: int64"
      ]
     },
     "execution_count": 33,
     "metadata": {},
     "output_type": "execute_result"
    }
   ],
   "source": [
    "df.isna().sum()"
   ]
  },
  {
   "cell_type": "markdown",
   "metadata": {},
   "source": [
    "## Corregir los tipos de datos"
   ]
  },
  {
   "cell_type": "markdown",
   "metadata": {},
   "source": [
    "Cambiamos los tipos de datos que tenemos en el dataframe para tener un dataset mas limpio y accesible."
   ]
  },
  {
   "cell_type": "code",
   "execution_count": 34,
   "metadata": {},
   "outputs": [],
   "source": [
    "df['date_posted'] = pd.to_datetime(df['date_posted'] , format = '%Y-%m-%d')\n",
    "\n",
    "df['model_year'] = df['model_year'].astype('int64')\n",
    "df['cylinders'] = df['cylinders'].astype('int64')\n",
    "df['is_4wd'] = df['is_4wd'].astype(bool)"
   ]
  },
  {
   "cell_type": "code",
   "execution_count": 35,
   "metadata": {
    "scrolled": true
   },
   "outputs": [
    {
     "data": {
      "text/plain": [
       "price                    int64\n",
       "model_year               int64\n",
       "model                   object\n",
       "condition               object\n",
       "cylinders                int64\n",
       "fuel                    object\n",
       "odometer               float64\n",
       "transmission            object\n",
       "type                    object\n",
       "paint_color             object\n",
       "is_4wd                    bool\n",
       "date_posted     datetime64[ns]\n",
       "days_listed              int64\n",
       "dtype: object"
      ]
     },
     "execution_count": 35,
     "metadata": {},
     "output_type": "execute_result"
    }
   ],
   "source": [
    "df.dtypes"
   ]
  },
  {
   "cell_type": "markdown",
   "metadata": {},
   "source": [
    "## Enriquecer datos"
   ]
  },
  {
   "cell_type": "markdown",
   "metadata": {},
   "source": [
    "Agreguemos factores adicionales a los datos para facilitar el análisis."
   ]
  },
  {
   "cell_type": "code",
   "execution_count": 36,
   "metadata": {},
   "outputs": [],
   "source": [
    "# Agreguemos valores de fecha y hora para cuando se colocó el anuncio\n",
    "df['year_posted'] = df['date_posted'].dt.year\n",
    "df['month_posted'] = df['date_posted'].dt.month\n",
    "df['day_posted'] = df['date_posted'].dt.weekday"
   ]
  },
  {
   "cell_type": "code",
   "execution_count": 37,
   "metadata": {},
   "outputs": [],
   "source": [
    "# Agreguemos los años del vehículo cuando el anuncio se colocó\n",
    "df['years_old'] = 1 + df['year_posted'] - df['model_year']\n"
   ]
  },
  {
   "cell_type": "markdown",
   "metadata": {},
   "source": [
    "Le sumamos el valor de 1 a esta operación para no provocar indefiniciones matemáticas en la división a continuación"
   ]
  },
  {
   "cell_type": "code",
   "execution_count": 38,
   "metadata": {},
   "outputs": [],
   "source": [
    "# Agreguemos el millaje promedio del vehículo por año\n",
    "df['miles_per_year'] = df['odometer'] / df['years_old']\n"
   ]
  },
  {
   "cell_type": "code",
   "execution_count": 39,
   "metadata": {},
   "outputs": [
    {
     "data": {
      "text/plain": [
       "price                      int64\n",
       "model_year                 int64\n",
       "model                     object\n",
       "condition                 object\n",
       "cylinders                  int64\n",
       "fuel                      object\n",
       "odometer                 float64\n",
       "transmission              object\n",
       "type                      object\n",
       "paint_color               object\n",
       "is_4wd                      bool\n",
       "date_posted       datetime64[ns]\n",
       "days_listed                int64\n",
       "year_posted                int64\n",
       "month_posted               int64\n",
       "day_posted                 int64\n",
       "years_old                  int64\n",
       "miles_per_year           float64\n",
       "dtype: object"
      ]
     },
     "execution_count": 39,
     "metadata": {},
     "output_type": "execute_result"
    }
   ],
   "source": [
    "df.dtypes"
   ]
  },
  {
   "cell_type": "code",
   "execution_count": 40,
   "metadata": {
    "scrolled": true
   },
   "outputs": [
    {
     "data": {
      "text/plain": [
       "array(['good', 'like new', 'fair', 'excellent', 'salvage', 'new'],\n",
       "      dtype=object)"
      ]
     },
     "execution_count": 40,
     "metadata": {},
     "output_type": "execute_result"
    }
   ],
   "source": [
    "# Podría ser útil reemplazar los valores de condición con algo que se pueda manipular más fácilmente\n",
    "df['condition'].unique()\n",
    "\n"
   ]
  },
  {
   "cell_type": "code",
   "execution_count": 41,
   "metadata": {},
   "outputs": [],
   "source": [
    "conditions = {\n",
    "    'salvage': 1,\n",
    "    'fair': 2,\n",
    "    'good': 3,\n",
    "    'excellent': 4,\n",
    "    'like new': 5,\n",
    "    'new': 6,\n",
    "}"
   ]
  },
  {
   "cell_type": "code",
   "execution_count": 42,
   "metadata": {},
   "outputs": [],
   "source": [
    "df['condition'] = df['condition'].replace(conditions)"
   ]
  },
  {
   "cell_type": "code",
   "execution_count": 43,
   "metadata": {},
   "outputs": [
    {
     "data": {
      "text/plain": [
       "price                      int64\n",
       "model_year                 int64\n",
       "model                     object\n",
       "condition                  int64\n",
       "cylinders                  int64\n",
       "fuel                      object\n",
       "odometer                 float64\n",
       "transmission              object\n",
       "type                      object\n",
       "paint_color               object\n",
       "is_4wd                      bool\n",
       "date_posted       datetime64[ns]\n",
       "days_listed                int64\n",
       "year_posted                int64\n",
       "month_posted               int64\n",
       "day_posted                 int64\n",
       "years_old                  int64\n",
       "miles_per_year           float64\n",
       "dtype: object"
      ]
     },
     "execution_count": 43,
     "metadata": {},
     "output_type": "execute_result"
    }
   ],
   "source": [
    "df.dtypes"
   ]
  },
  {
   "cell_type": "markdown",
   "metadata": {},
   "source": [
    "## Comprobar datos limpios"
   ]
  },
  {
   "cell_type": "markdown",
   "metadata": {},
   "source": [
    "Los datos parecen estar listos para nuestro análisis. Veamos la información general de nuestro Dataframe."
   ]
  },
  {
   "cell_type": "code",
   "execution_count": 44,
   "metadata": {},
   "outputs": [
    {
     "name": "stdout",
     "output_type": "stream",
     "text": [
      "<class 'pandas.core.frame.DataFrame'>\n",
      "RangeIndex: 51525 entries, 0 to 51524\n",
      "Data columns (total 18 columns):\n",
      " #   Column          Non-Null Count  Dtype         \n",
      "---  ------          --------------  -----         \n",
      " 0   price           51525 non-null  int64         \n",
      " 1   model_year      51525 non-null  int64         \n",
      " 2   model           51525 non-null  object        \n",
      " 3   condition       51525 non-null  int64         \n",
      " 4   cylinders       51525 non-null  int64         \n",
      " 5   fuel            51525 non-null  object        \n",
      " 6   odometer        51525 non-null  float64       \n",
      " 7   transmission    51525 non-null  object        \n",
      " 8   type            51525 non-null  object        \n",
      " 9   paint_color     51525 non-null  object        \n",
      " 10  is_4wd          51525 non-null  bool          \n",
      " 11  date_posted     51525 non-null  datetime64[ns]\n",
      " 12  days_listed     51525 non-null  int64         \n",
      " 13  year_posted     51525 non-null  int64         \n",
      " 14  month_posted    51525 non-null  int64         \n",
      " 15  day_posted      51525 non-null  int64         \n",
      " 16  years_old       51525 non-null  int64         \n",
      " 17  miles_per_year  51525 non-null  float64       \n",
      "dtypes: bool(1), datetime64[ns](1), float64(2), int64(9), object(5)\n",
      "memory usage: 6.7+ MB\n"
     ]
    }
   ],
   "source": [
    "# imprimimos la información general/resumida sobre el DataFrame\n",
    "df.info()\n"
   ]
  },
  {
   "cell_type": "code",
   "execution_count": 45,
   "metadata": {
    "scrolled": true
   },
   "outputs": [
    {
     "data": {
      "text/html": [
       "<div>\n",
       "<style scoped>\n",
       "    .dataframe tbody tr th:only-of-type {\n",
       "        vertical-align: middle;\n",
       "    }\n",
       "\n",
       "    .dataframe tbody tr th {\n",
       "        vertical-align: top;\n",
       "    }\n",
       "\n",
       "    .dataframe thead th {\n",
       "        text-align: right;\n",
       "    }\n",
       "</style>\n",
       "<table border=\"1\" class=\"dataframe\">\n",
       "  <thead>\n",
       "    <tr style=\"text-align: right;\">\n",
       "      <th></th>\n",
       "      <th>price</th>\n",
       "      <th>model_year</th>\n",
       "      <th>model</th>\n",
       "      <th>condition</th>\n",
       "      <th>cylinders</th>\n",
       "      <th>fuel</th>\n",
       "      <th>odometer</th>\n",
       "      <th>transmission</th>\n",
       "      <th>type</th>\n",
       "      <th>paint_color</th>\n",
       "      <th>is_4wd</th>\n",
       "      <th>date_posted</th>\n",
       "      <th>days_listed</th>\n",
       "      <th>year_posted</th>\n",
       "      <th>month_posted</th>\n",
       "      <th>day_posted</th>\n",
       "      <th>years_old</th>\n",
       "      <th>miles_per_year</th>\n",
       "    </tr>\n",
       "  </thead>\n",
       "  <tbody>\n",
       "    <tr>\n",
       "      <th>0</th>\n",
       "      <td>9400</td>\n",
       "      <td>2011</td>\n",
       "      <td>bmw x5</td>\n",
       "      <td>3</td>\n",
       "      <td>6</td>\n",
       "      <td>gas</td>\n",
       "      <td>145000.0</td>\n",
       "      <td>automatic</td>\n",
       "      <td>SUV</td>\n",
       "      <td>other</td>\n",
       "      <td>True</td>\n",
       "      <td>2018-06-23</td>\n",
       "      <td>19</td>\n",
       "      <td>2018</td>\n",
       "      <td>6</td>\n",
       "      <td>5</td>\n",
       "      <td>8</td>\n",
       "      <td>18125.000000</td>\n",
       "    </tr>\n",
       "    <tr>\n",
       "      <th>1</th>\n",
       "      <td>25500</td>\n",
       "      <td>2011</td>\n",
       "      <td>ford f-150</td>\n",
       "      <td>3</td>\n",
       "      <td>6</td>\n",
       "      <td>gas</td>\n",
       "      <td>88705.0</td>\n",
       "      <td>automatic</td>\n",
       "      <td>pickup</td>\n",
       "      <td>white</td>\n",
       "      <td>True</td>\n",
       "      <td>2018-10-19</td>\n",
       "      <td>50</td>\n",
       "      <td>2018</td>\n",
       "      <td>10</td>\n",
       "      <td>4</td>\n",
       "      <td>8</td>\n",
       "      <td>11088.125000</td>\n",
       "    </tr>\n",
       "    <tr>\n",
       "      <th>2</th>\n",
       "      <td>5500</td>\n",
       "      <td>2013</td>\n",
       "      <td>hyundai sonata</td>\n",
       "      <td>5</td>\n",
       "      <td>4</td>\n",
       "      <td>gas</td>\n",
       "      <td>110000.0</td>\n",
       "      <td>automatic</td>\n",
       "      <td>sedan</td>\n",
       "      <td>red</td>\n",
       "      <td>False</td>\n",
       "      <td>2019-02-07</td>\n",
       "      <td>79</td>\n",
       "      <td>2019</td>\n",
       "      <td>2</td>\n",
       "      <td>3</td>\n",
       "      <td>7</td>\n",
       "      <td>15714.285714</td>\n",
       "    </tr>\n",
       "    <tr>\n",
       "      <th>3</th>\n",
       "      <td>1500</td>\n",
       "      <td>2003</td>\n",
       "      <td>ford f-150</td>\n",
       "      <td>2</td>\n",
       "      <td>8</td>\n",
       "      <td>gas</td>\n",
       "      <td>181613.0</td>\n",
       "      <td>automatic</td>\n",
       "      <td>pickup</td>\n",
       "      <td>other</td>\n",
       "      <td>False</td>\n",
       "      <td>2019-03-22</td>\n",
       "      <td>9</td>\n",
       "      <td>2019</td>\n",
       "      <td>3</td>\n",
       "      <td>4</td>\n",
       "      <td>17</td>\n",
       "      <td>10683.117647</td>\n",
       "    </tr>\n",
       "    <tr>\n",
       "      <th>4</th>\n",
       "      <td>14900</td>\n",
       "      <td>2017</td>\n",
       "      <td>chrysler 200</td>\n",
       "      <td>4</td>\n",
       "      <td>4</td>\n",
       "      <td>gas</td>\n",
       "      <td>80903.0</td>\n",
       "      <td>automatic</td>\n",
       "      <td>sedan</td>\n",
       "      <td>black</td>\n",
       "      <td>False</td>\n",
       "      <td>2019-04-02</td>\n",
       "      <td>28</td>\n",
       "      <td>2019</td>\n",
       "      <td>4</td>\n",
       "      <td>1</td>\n",
       "      <td>3</td>\n",
       "      <td>26967.666667</td>\n",
       "    </tr>\n",
       "  </tbody>\n",
       "</table>\n",
       "</div>"
      ],
      "text/plain": [
       "   price  model_year           model  condition  cylinders fuel  odometer  \\\n",
       "0   9400        2011          bmw x5          3          6  gas  145000.0   \n",
       "1  25500        2011      ford f-150          3          6  gas   88705.0   \n",
       "2   5500        2013  hyundai sonata          5          4  gas  110000.0   \n",
       "3   1500        2003      ford f-150          2          8  gas  181613.0   \n",
       "4  14900        2017    chrysler 200          4          4  gas   80903.0   \n",
       "\n",
       "  transmission    type paint_color  is_4wd date_posted  days_listed  \\\n",
       "0    automatic     SUV       other    True  2018-06-23           19   \n",
       "1    automatic  pickup       white    True  2018-10-19           50   \n",
       "2    automatic   sedan         red   False  2019-02-07           79   \n",
       "3    automatic  pickup       other   False  2019-03-22            9   \n",
       "4    automatic   sedan       black   False  2019-04-02           28   \n",
       "\n",
       "   year_posted  month_posted  day_posted  years_old  miles_per_year  \n",
       "0         2018             6           5          8    18125.000000  \n",
       "1         2018            10           4          8    11088.125000  \n",
       "2         2019             2           3          7    15714.285714  \n",
       "3         2019             3           4         17    10683.117647  \n",
       "4         2019             4           1          3    26967.666667  "
      ]
     },
     "execution_count": 45,
     "metadata": {},
     "output_type": "execute_result"
    }
   ],
   "source": [
    "# imprimimos una muestra de datos\n",
    "df.head()\n"
   ]
  },
  {
   "cell_type": "markdown",
   "metadata": {},
   "source": [
    "## Estudiar parámetros principales\n",
    "\n",
    "Los parámetros son:\n",
    "- Precio\n",
    "- Los años del vehículo cuando el anuncio se colocó\n",
    "- Millaje\n",
    "- Número de cilindros\n",
    "- Estado"
   ]
  },
  {
   "cell_type": "code",
   "execution_count": 46,
   "metadata": {},
   "outputs": [
    {
     "name": "stdout",
     "output_type": "stream",
     "text": [
      "<class 'pandas.core.frame.DataFrame'>\n",
      "RangeIndex: 51525 entries, 0 to 51524\n",
      "Data columns (total 18 columns):\n",
      " #   Column          Non-Null Count  Dtype         \n",
      "---  ------          --------------  -----         \n",
      " 0   price           51525 non-null  int64         \n",
      " 1   model_year      51525 non-null  int64         \n",
      " 2   model           51525 non-null  object        \n",
      " 3   condition       51525 non-null  int64         \n",
      " 4   cylinders       51525 non-null  int64         \n",
      " 5   fuel            51525 non-null  object        \n",
      " 6   odometer        51525 non-null  float64       \n",
      " 7   transmission    51525 non-null  object        \n",
      " 8   type            51525 non-null  object        \n",
      " 9   paint_color     51525 non-null  object        \n",
      " 10  is_4wd          51525 non-null  bool          \n",
      " 11  date_posted     51525 non-null  datetime64[ns]\n",
      " 12  days_listed     51525 non-null  int64         \n",
      " 13  year_posted     51525 non-null  int64         \n",
      " 14  month_posted    51525 non-null  int64         \n",
      " 15  day_posted      51525 non-null  int64         \n",
      " 16  years_old       51525 non-null  int64         \n",
      " 17  miles_per_year  51525 non-null  float64       \n",
      "dtypes: bool(1), datetime64[ns](1), float64(2), int64(9), object(5)\n",
      "memory usage: 6.7+ MB\n"
     ]
    }
   ],
   "source": [
    "df.info()"
   ]
  },
  {
   "cell_type": "code",
   "execution_count": 47,
   "metadata": {
    "scrolled": false
   },
   "outputs": [
    {
     "data": {
      "text/html": [
       "<div>\n",
       "<style scoped>\n",
       "    .dataframe tbody tr th:only-of-type {\n",
       "        vertical-align: middle;\n",
       "    }\n",
       "\n",
       "    .dataframe tbody tr th {\n",
       "        vertical-align: top;\n",
       "    }\n",
       "\n",
       "    .dataframe thead th {\n",
       "        text-align: right;\n",
       "    }\n",
       "</style>\n",
       "<table border=\"1\" class=\"dataframe\">\n",
       "  <thead>\n",
       "    <tr style=\"text-align: right;\">\n",
       "      <th></th>\n",
       "      <th>price</th>\n",
       "      <th>years_old</th>\n",
       "      <th>odometer</th>\n",
       "      <th>cylinders</th>\n",
       "      <th>condition</th>\n",
       "    </tr>\n",
       "  </thead>\n",
       "  <tbody>\n",
       "    <tr>\n",
       "      <th>price</th>\n",
       "      <td>1.000000</td>\n",
       "      <td>-0.411694</td>\n",
       "      <td>-0.393550</td>\n",
       "      <td>0.300342</td>\n",
       "      <td>0.221518</td>\n",
       "    </tr>\n",
       "    <tr>\n",
       "      <th>years_old</th>\n",
       "      <td>-0.411694</td>\n",
       "      <td>1.000000</td>\n",
       "      <td>0.433983</td>\n",
       "      <td>0.147765</td>\n",
       "      <td>-0.268812</td>\n",
       "    </tr>\n",
       "    <tr>\n",
       "      <th>odometer</th>\n",
       "      <td>-0.393550</td>\n",
       "      <td>0.433983</td>\n",
       "      <td>1.000000</td>\n",
       "      <td>0.085719</td>\n",
       "      <td>-0.322576</td>\n",
       "    </tr>\n",
       "    <tr>\n",
       "      <th>cylinders</th>\n",
       "      <td>0.300342</td>\n",
       "      <td>0.147765</td>\n",
       "      <td>0.085719</td>\n",
       "      <td>1.000000</td>\n",
       "      <td>-0.065661</td>\n",
       "    </tr>\n",
       "    <tr>\n",
       "      <th>condition</th>\n",
       "      <td>0.221518</td>\n",
       "      <td>-0.268812</td>\n",
       "      <td>-0.322576</td>\n",
       "      <td>-0.065661</td>\n",
       "      <td>1.000000</td>\n",
       "    </tr>\n",
       "  </tbody>\n",
       "</table>\n",
       "</div>"
      ],
      "text/plain": [
       "              price  years_old  odometer  cylinders  condition\n",
       "price      1.000000  -0.411694 -0.393550   0.300342   0.221518\n",
       "years_old -0.411694   1.000000  0.433983   0.147765  -0.268812\n",
       "odometer  -0.393550   0.433983  1.000000   0.085719  -0.322576\n",
       "cylinders  0.300342   0.147765  0.085719   1.000000  -0.065661\n",
       "condition  0.221518  -0.268812 -0.322576  -0.065661   1.000000"
      ]
     },
     "execution_count": 47,
     "metadata": {},
     "output_type": "execute_result"
    }
   ],
   "source": [
    "# Veamos la relación entre estas variables\n",
    "df[['price', 'years_old', 'odometer', 'cylinders', 'condition']].corr()\n"
   ]
  },
  {
   "cell_type": "code",
   "execution_count": 48,
   "metadata": {},
   "outputs": [],
   "source": [
    "# Definimos las columnas que queremos graficar\n",
    "columns = ['price', 'model_year', 'odometer', 'cylinders', 'condition']"
   ]
  },
  {
   "cell_type": "code",
   "execution_count": 49,
   "metadata": {
    "scrolled": true
   },
   "outputs": [
    {
     "data": {
      "image/png": "[encoded data removed]",
      "text/plain": [
       "<Figure size 432x288 with 1 Axes>"
      ]
     },
     "metadata": {
      "needs_background": "light"
     },
     "output_type": "display_data"
    },
    {
     "data": {
      "image/png": "[encoded data removed]",
      "text/plain": [
       "<Figure size 432x288 with 1 Axes>"
      ]
     },
     "metadata": {
      "needs_background": "light"
     },
     "output_type": "display_data"
    },
    {
     "data": {
      "image/png": "[encoded data removed]",
      "text/plain": [
       "<Figure size 432x288 with 1 Axes>"
      ]
     },
     "metadata": {
      "needs_background": "light"
     },
     "output_type": "display_data"
    },
    {
     "data": {
      "image/png": "[encoded data removed]",
      "text/plain": [
       "<Figure size 432x288 with 1 Axes>"
      ]
     },
     "metadata": {
      "needs_background": "light"
     },
     "output_type": "display_data"
    },
    {
     "data": {
      "image/png": "[encoded data removed]",
      "text/plain": [
       "<Figure size 432x288 with 1 Axes>"
      ]
     },
     "metadata": {
      "needs_background": "light"
     },
     "output_type": "display_data"
    }
   ],
   "source": [
    "# Definimos una función que grafique un histograma de cada columna\n",
    "def plot_histogram(column):\n",
    "    df.hist(column, bins=50)\n",
    "    plt.title(f'Dsitribution of {column}')\n",
    "    plt.xlabel(column)\n",
    "    plt.ylabel('frequency')\n",
    "    plt.show()\n",
    "    \n",
    "for col in columns:\n",
    "    plot_histogram(col)"
   ]
  },
  {
   "cell_type": "markdown",
   "metadata": {},
   "source": [
    "Ahora veamos diagramas de caja"
   ]
  },
  {
   "cell_type": "code",
   "execution_count": 50,
   "metadata": {},
   "outputs": [],
   "source": [
    "# Definimos las columnas que queremos graficar con diagramas de caja\n",
    "columns_box = ['price', 'model_year', 'odometer']"
   ]
  },
  {
   "cell_type": "code",
   "execution_count": 51,
   "metadata": {
    "scrolled": true
   },
   "outputs": [
    {
     "data": {
      "image/png": "[encoded data removed]",
      "text/plain": [
       "<Figure size 432x288 with 1 Axes>"
      ]
     },
     "metadata": {
      "needs_background": "light"
     },
     "output_type": "display_data"
    },
    {
     "data": {
      "image/png": "[encoded data removed]",
      "text/plain": [
       "<Figure size 432x288 with 1 Axes>"
      ]
     },
     "metadata": {
      "needs_background": "light"
     },
     "output_type": "display_data"
    },
    {
     "data": {
      "image/png": "[encoded data removed]",
      "text/plain": [
       "<Figure size 432x288 with 1 Axes>"
      ]
     },
     "metadata": {
      "needs_background": "light"
     },
     "output_type": "display_data"
    }
   ],
   "source": [
    "# Iteramos sobre las columnas y creamos diagramas de caja para cada columna\n",
    "for col in columns_box:\n",
    "    df.boxplot(column=col)\n",
    "    plt.title(f'Boxplot of {col}')\n",
    "    plt.show()"
   ]
  },
  {
   "cell_type": "markdown",
   "metadata": {},
   "source": [
    "Aquí podemos ver que en el número de cilindros y el estado de los vehiculos, no tenemos valores atípicos. En las columnas restantes si los hay."
   ]
  },
  {
   "cell_type": "markdown",
   "metadata": {},
   "source": [
    "## Estudiar y tratar valores atípicos\n",
    "Determinemos que columnas pueden contener valores atípicos y tratarlos para mostrar gráficos sin contemplar estos valores atípicos."
   ]
  },
  {
   "cell_type": "code",
   "execution_count": 52,
   "metadata": {
    "scrolled": true
   },
   "outputs": [
    {
     "name": "stdout",
     "output_type": "stream",
     "text": [
      "Lower limit for price: -12758.50\n",
      "Upper limit for price: 34597.50\n",
      "Lower limit for model_year: 1996.50\n",
      "Upper limit for model_year: 2024.50\n",
      "Lower limit for odometer: -32561.50\n",
      "Upper limit for odometer: 256050.50\n"
     ]
    }
   ],
   "source": [
    "# Definamos una función que calcule los límites para cada columna\n",
    "def calculate_limits(column):\n",
    "    q1 = df[column].quantile(0.25)\n",
    "    q3 = df[column].quantile(0.75)\n",
    "    iqr = q3 - q1\n",
    "    lower_limit = q1 - 1.5 * iqr\n",
    "    upper_limit = q3 + 1.5 * iqr\n",
    "    return lower_limit, upper_limit\n",
    "\n",
    "columns = ['price', 'model_year', 'odometer']\n",
    "\n",
    "# Almacenamos los datos sin valores atípicos en un dataframe separado\n",
    "df_filtered = df\n",
    "\n",
    "for col in columns:\n",
    "    lower, upper = calculate_limits(col)\n",
    "    df_filtered = df_filtered[(df_filtered[col] >= lower) & (df_filtered[col] <= upper)]\n",
    "    print(f'Lower limit for {col}: {lower:.2f}')\n",
    "    print(f'Upper limit for {col}: {upper:.2f}')"
   ]
  },
  {
   "cell_type": "code",
   "execution_count": 53,
   "metadata": {
    "scrolled": true
   },
   "outputs": [
    {
     "data": {
      "text/html": [
       "<div>\n",
       "<style scoped>\n",
       "    .dataframe tbody tr th:only-of-type {\n",
       "        vertical-align: middle;\n",
       "    }\n",
       "\n",
       "    .dataframe tbody tr th {\n",
       "        vertical-align: top;\n",
       "    }\n",
       "\n",
       "    .dataframe thead th {\n",
       "        text-align: right;\n",
       "    }\n",
       "</style>\n",
       "<table border=\"1\" class=\"dataframe\">\n",
       "  <thead>\n",
       "    <tr style=\"text-align: right;\">\n",
       "      <th></th>\n",
       "      <th>price</th>\n",
       "      <th>model_year</th>\n",
       "      <th>model</th>\n",
       "      <th>condition</th>\n",
       "      <th>cylinders</th>\n",
       "      <th>fuel</th>\n",
       "      <th>odometer</th>\n",
       "      <th>transmission</th>\n",
       "      <th>type</th>\n",
       "      <th>paint_color</th>\n",
       "      <th>is_4wd</th>\n",
       "      <th>date_posted</th>\n",
       "      <th>days_listed</th>\n",
       "      <th>year_posted</th>\n",
       "      <th>month_posted</th>\n",
       "      <th>day_posted</th>\n",
       "      <th>years_old</th>\n",
       "      <th>miles_per_year</th>\n",
       "    </tr>\n",
       "  </thead>\n",
       "  <tbody>\n",
       "    <tr>\n",
       "      <th>16752</th>\n",
       "      <td>1</td>\n",
       "      <td>2018</td>\n",
       "      <td>ford f-150</td>\n",
       "      <td>4</td>\n",
       "      <td>6</td>\n",
       "      <td>gas</td>\n",
       "      <td>17269.0</td>\n",
       "      <td>automatic</td>\n",
       "      <td>truck</td>\n",
       "      <td>silver</td>\n",
       "      <td>False</td>\n",
       "      <td>2019-01-09</td>\n",
       "      <td>87</td>\n",
       "      <td>2019</td>\n",
       "      <td>1</td>\n",
       "      <td>2</td>\n",
       "      <td>2</td>\n",
       "      <td>8634.500000</td>\n",
       "    </tr>\n",
       "    <tr>\n",
       "      <th>23811</th>\n",
       "      <td>1</td>\n",
       "      <td>2007</td>\n",
       "      <td>chevrolet tahoe</td>\n",
       "      <td>5</td>\n",
       "      <td>8</td>\n",
       "      <td>gas</td>\n",
       "      <td>1.0</td>\n",
       "      <td>automatic</td>\n",
       "      <td>SUV</td>\n",
       "      <td>blue</td>\n",
       "      <td>False</td>\n",
       "      <td>2018-07-02</td>\n",
       "      <td>47</td>\n",
       "      <td>2018</td>\n",
       "      <td>7</td>\n",
       "      <td>0</td>\n",
       "      <td>12</td>\n",
       "      <td>0.083333</td>\n",
       "    </tr>\n",
       "    <tr>\n",
       "      <th>11533</th>\n",
       "      <td>1</td>\n",
       "      <td>2019</td>\n",
       "      <td>dodge charger</td>\n",
       "      <td>4</td>\n",
       "      <td>6</td>\n",
       "      <td>gas</td>\n",
       "      <td>104230.0</td>\n",
       "      <td>automatic</td>\n",
       "      <td>sedan</td>\n",
       "      <td>white</td>\n",
       "      <td>True</td>\n",
       "      <td>2019-01-22</td>\n",
       "      <td>47</td>\n",
       "      <td>2019</td>\n",
       "      <td>1</td>\n",
       "      <td>1</td>\n",
       "      <td>1</td>\n",
       "      <td>104230.000000</td>\n",
       "    </tr>\n",
       "    <tr>\n",
       "      <th>30785</th>\n",
       "      <td>1</td>\n",
       "      <td>2018</td>\n",
       "      <td>chevrolet silverado 1500</td>\n",
       "      <td>4</td>\n",
       "      <td>8</td>\n",
       "      <td>gas</td>\n",
       "      <td>104230.0</td>\n",
       "      <td>automatic</td>\n",
       "      <td>truck</td>\n",
       "      <td>white</td>\n",
       "      <td>True</td>\n",
       "      <td>2018-05-11</td>\n",
       "      <td>26</td>\n",
       "      <td>2018</td>\n",
       "      <td>5</td>\n",
       "      <td>4</td>\n",
       "      <td>1</td>\n",
       "      <td>104230.000000</td>\n",
       "    </tr>\n",
       "    <tr>\n",
       "      <th>11760</th>\n",
       "      <td>1</td>\n",
       "      <td>2017</td>\n",
       "      <td>dodge charger</td>\n",
       "      <td>4</td>\n",
       "      <td>8</td>\n",
       "      <td>gas</td>\n",
       "      <td>104230.0</td>\n",
       "      <td>automatic</td>\n",
       "      <td>sedan</td>\n",
       "      <td>red</td>\n",
       "      <td>False</td>\n",
       "      <td>2018-06-18</td>\n",
       "      <td>50</td>\n",
       "      <td>2018</td>\n",
       "      <td>6</td>\n",
       "      <td>0</td>\n",
       "      <td>2</td>\n",
       "      <td>52115.000000</td>\n",
       "    </tr>\n",
       "  </tbody>\n",
       "</table>\n",
       "</div>"
      ],
      "text/plain": [
       "       price  model_year                     model  condition  cylinders fuel  \\\n",
       "16752      1        2018                ford f-150          4          6  gas   \n",
       "23811      1        2007           chevrolet tahoe          5          8  gas   \n",
       "11533      1        2019             dodge charger          4          6  gas   \n",
       "30785      1        2018  chevrolet silverado 1500          4          8  gas   \n",
       "11760      1        2017             dodge charger          4          8  gas   \n",
       "\n",
       "       odometer transmission   type paint_color  is_4wd date_posted  \\\n",
       "16752   17269.0    automatic  truck      silver   False  2019-01-09   \n",
       "23811       1.0    automatic    SUV        blue   False  2018-07-02   \n",
       "11533  104230.0    automatic  sedan       white    True  2019-01-22   \n",
       "30785  104230.0    automatic  truck       white    True  2018-05-11   \n",
       "11760  104230.0    automatic  sedan         red   False  2018-06-18   \n",
       "\n",
       "       days_listed  year_posted  month_posted  day_posted  years_old  \\\n",
       "16752           87         2019             1           2          2   \n",
       "23811           47         2018             7           0         12   \n",
       "11533           47         2019             1           1          1   \n",
       "30785           26         2018             5           4          1   \n",
       "11760           50         2018             6           0          2   \n",
       "\n",
       "       miles_per_year  \n",
       "16752     8634.500000  \n",
       "23811        0.083333  \n",
       "11533   104230.000000  \n",
       "30785   104230.000000  \n",
       "11760    52115.000000  "
      ]
     },
     "execution_count": 53,
     "metadata": {},
     "output_type": "execute_result"
    }
   ],
   "source": [
    "# Ahora mostremos los valores mas pequeños de la columna 'price' para ver si la función realmente funciona\n",
    "df_filtered.sort_values('price').head()"
   ]
  },
  {
   "cell_type": "markdown",
   "metadata": {},
   "source": [
    "## Estudiar parámetros principales sin valores atípicos"
   ]
  },
  {
   "cell_type": "markdown",
   "metadata": {},
   "source": [
    "Utilicemos los datos filtrados para crear nuevos histogramas y poder compararlos con los histogramas anteriores (aquellos con valores atípicos incluidos)."
   ]
  },
  {
   "cell_type": "code",
   "execution_count": 54,
   "metadata": {},
   "outputs": [
    {
     "data": {
      "text/plain": [
       "Text(0, 0.5, 'frequency')"
      ]
     },
     "execution_count": 54,
     "metadata": {},
     "output_type": "execute_result"
    },
    {
     "data": {
      "image/png": "[encoded data removed]",
      "text/plain": [
       "<Figure size 432x288 with 1 Axes>"
      ]
     },
     "metadata": {
      "needs_background": "light"
     },
     "output_type": "display_data"
    }
   ],
   "source": [
    "df_filtered.hist('price', bins=50, range=(0, 40000))\n",
    "plt.title('Distribution of prices')\n",
    "plt.xlabel('price')\n",
    "plt.ylabel('frequency')"
   ]
  },
  {
   "cell_type": "markdown",
   "metadata": {},
   "source": [
    "Podemos observar que en el histrograma de la columna 'price' tenemos una distribución sesgada hacia la derecha, antes y después de filtrar, con una mayor concentración de los datos en bajos precios. Sin embargo,  despues de filtrar los datos, la concentración de vehículos de menos precio es mayor, lo que nos indica que los **valores atípicos eran mayormente vehículos de mayor precio.**"
   ]
  },
  {
   "cell_type": "code",
   "execution_count": 55,
   "metadata": {},
   "outputs": [
    {
     "data": {
      "text/plain": [
       "Text(0, 0.5, 'frequency')"
      ]
     },
     "execution_count": 55,
     "metadata": {},
     "output_type": "execute_result"
    },
    {
     "data": {
      "image/png": "[encoded data removed]",
      "text/plain": [
       "<Figure size 432x288 with 1 Axes>"
      ]
     },
     "metadata": {
      "needs_background": "light"
     },
     "output_type": "display_data"
    }
   ],
   "source": [
    "df_filtered.hist('model_year', bins=30, range=(1990, 2020))\n",
    "plt.title('Distribution of year model')\n",
    "plt.xlabel('model_year')\n",
    "plt.ylabel('frequency')"
   ]
  },
  {
   "cell_type": "markdown",
   "metadata": {},
   "source": [
    "Podemos observar que en el histrograma de la columna 'model_year' la distribución está sesgada hacia la izquiera, esto quiere decir que hay mayor concentración de vehiculos recientes. Al filtrar los datos nos dimos cuenta que la gráfica es muy similar, solamente se acorto la cola. Esto nos indica que los **valores atípicos** de esta columna no eran ni vehículos muy viejos, ni muy nuevos. **Estaban distribuidos aleatoriamente.**"
   ]
  },
  {
   "cell_type": "code",
   "execution_count": 56,
   "metadata": {
    "scrolled": true
   },
   "outputs": [
    {
     "data": {
      "text/plain": [
       "Text(0, 0.5, 'frequency')"
      ]
     },
     "execution_count": 56,
     "metadata": {},
     "output_type": "execute_result"
    },
    {
     "data": {
      "image/png": "[encoded data removed]",
      "text/plain": [
       "<Figure size 432x288 with 1 Axes>"
      ]
     },
     "metadata": {
      "needs_background": "light"
     },
     "output_type": "display_data"
    }
   ],
   "source": [
    "df_filtered.hist('odometer', bins=30, range=(0, 250000))\n",
    "plt.title('Distribution of mileage')\n",
    "plt.xlabel('miles')\n",
    "plt.ylabel('frequency')"
   ]
  },
  {
   "cell_type": "markdown",
   "metadata": {},
   "source": [
    "Podemos observar que en el histrograma de la columna 'odometer' la distribución está sesgada levemente hacia la derecha, esto quiere decir que hay mayor concentración de vehiculos con un millaje promedio cerca de las 100,000 millas. Al filtrar los datos nos dimos cuenta que la gráfica es muy similar, solamente se acorto la cola. Esto nos indica que los **valores atípicos** de esta columna no eran ni vehículos con mucho millaje, ni vehículos con poco millaje."
   ]
  },
  {
   "cell_type": "markdown",
   "metadata": {},
   "source": [
    "## Periodo de colocación de los anuncios"
   ]
  },
  {
   "cell_type": "markdown",
   "metadata": {},
   "source": [
    "Podemos observar que en el histrograma de la columna 'model_year' la distribución está sesgada hacia la derecha, con una mayor concentración de vehículos con menor distancia recorrida. Después de filtrar los datos, la gráfica se acorto de valores altos en distancias recorridas, lo que nos indica que los **valores atípicos de esta columna estaban distribuidos en altos valores de distancia recorrida**."
   ]
  },
  {
   "cell_type": "markdown",
   "metadata": {},
   "source": [
    "Primero veamos la información y disrtibución de los datos de la columna **'days_listed'**"
   ]
  },
  {
   "cell_type": "code",
   "execution_count": 57,
   "metadata": {
    "scrolled": true
   },
   "outputs": [
    {
     "data": {
      "text/plain": [
       "count    47869.000000\n",
       "mean        39.543191\n",
       "std         28.208523\n",
       "min          0.000000\n",
       "25%         19.000000\n",
       "50%         33.000000\n",
       "75%         53.000000\n",
       "max        271.000000\n",
       "Name: days_listed, dtype: float64"
      ]
     },
     "execution_count": 57,
     "metadata": {},
     "output_type": "execute_result"
    }
   ],
   "source": [
    "df_filtered['days_listed'].describe()"
   ]
  },
  {
   "cell_type": "code",
   "execution_count": 58,
   "metadata": {},
   "outputs": [
    {
     "data": {
      "text/plain": [
       "Text(0, 0.5, 'ads')"
      ]
     },
     "execution_count": 58,
     "metadata": {},
     "output_type": "execute_result"
    },
    {
     "data": {
      "image/png": "[encoded data removed]",
      "text/plain": [
       "<Figure size 432x288 with 1 Axes>"
      ]
     },
     "metadata": {
      "needs_background": "light"
     },
     "output_type": "display_data"
    }
   ],
   "source": [
    "df_filtered['days_listed'].hist()\n",
    "plt.title('Days of ads displayed')\n",
    "plt.xlabel('days')\n",
    "plt.ylabel('ads')"
   ]
  },
  {
   "cell_type": "code",
   "execution_count": 59,
   "metadata": {},
   "outputs": [
    {
     "name": "stdout",
     "output_type": "stream",
     "text": [
      "La media de anuncions mostrados es 39.54319079153523\n",
      "La mediana de anuncions mostrados es 33.0\n"
     ]
    }
   ],
   "source": [
    "media_ads = df_filtered['days_listed'].mean()\n",
    "median_ads = df_filtered['days_listed'].median()\n",
    "print(f'La media de anuncions mostrados es', media_ads)\n",
    "print(f'La mediana de anuncions mostrados es', median_ads)"
   ]
  },
  {
   "cell_type": "markdown",
   "metadata": {},
   "source": [
    "Podemos ver que el tiempo promedio que un anuncio es mostrado por vehículo es de un poco mas de un mes. Al mismo tiempo podemos ver que tenemos casos en los que los anuncios no duran ni siquiera un día y al contrario, tenemos anuncions que han sido mostrados por mas de 270 días."
   ]
  },
  {
   "cell_type": "markdown",
   "metadata": {},
   "source": [
    "Veamos los anuncios que fueron **eliminados rapidamente.** Estos serán filtrados con una duración máxima de 33 días, que es la mediana."
   ]
  },
  {
   "cell_type": "code",
   "execution_count": 60,
   "metadata": {
    "scrolled": true
   },
   "outputs": [
    {
     "data": {
      "text/html": [
       "<div>\n",
       "<style scoped>\n",
       "    .dataframe tbody tr th:only-of-type {\n",
       "        vertical-align: middle;\n",
       "    }\n",
       "\n",
       "    .dataframe tbody tr th {\n",
       "        vertical-align: top;\n",
       "    }\n",
       "\n",
       "    .dataframe thead th {\n",
       "        text-align: right;\n",
       "    }\n",
       "</style>\n",
       "<table border=\"1\" class=\"dataframe\">\n",
       "  <thead>\n",
       "    <tr style=\"text-align: right;\">\n",
       "      <th></th>\n",
       "      <th>price</th>\n",
       "      <th>model_year</th>\n",
       "      <th>model</th>\n",
       "      <th>condition</th>\n",
       "      <th>cylinders</th>\n",
       "      <th>fuel</th>\n",
       "      <th>odometer</th>\n",
       "      <th>transmission</th>\n",
       "      <th>type</th>\n",
       "      <th>paint_color</th>\n",
       "      <th>is_4wd</th>\n",
       "      <th>date_posted</th>\n",
       "      <th>days_listed</th>\n",
       "      <th>year_posted</th>\n",
       "      <th>month_posted</th>\n",
       "      <th>day_posted</th>\n",
       "      <th>years_old</th>\n",
       "      <th>miles_per_year</th>\n",
       "    </tr>\n",
       "  </thead>\n",
       "  <tbody>\n",
       "    <tr>\n",
       "      <th>0</th>\n",
       "      <td>9400</td>\n",
       "      <td>2011</td>\n",
       "      <td>bmw x5</td>\n",
       "      <td>3</td>\n",
       "      <td>6</td>\n",
       "      <td>gas</td>\n",
       "      <td>145000.0</td>\n",
       "      <td>automatic</td>\n",
       "      <td>SUV</td>\n",
       "      <td>other</td>\n",
       "      <td>True</td>\n",
       "      <td>2018-06-23</td>\n",
       "      <td>19</td>\n",
       "      <td>2018</td>\n",
       "      <td>6</td>\n",
       "      <td>5</td>\n",
       "      <td>8</td>\n",
       "      <td>18125.000000</td>\n",
       "    </tr>\n",
       "    <tr>\n",
       "      <th>3</th>\n",
       "      <td>1500</td>\n",
       "      <td>2003</td>\n",
       "      <td>ford f-150</td>\n",
       "      <td>2</td>\n",
       "      <td>8</td>\n",
       "      <td>gas</td>\n",
       "      <td>181613.0</td>\n",
       "      <td>automatic</td>\n",
       "      <td>pickup</td>\n",
       "      <td>other</td>\n",
       "      <td>False</td>\n",
       "      <td>2019-03-22</td>\n",
       "      <td>9</td>\n",
       "      <td>2019</td>\n",
       "      <td>3</td>\n",
       "      <td>4</td>\n",
       "      <td>17</td>\n",
       "      <td>10683.117647</td>\n",
       "    </tr>\n",
       "    <tr>\n",
       "      <th>4</th>\n",
       "      <td>14900</td>\n",
       "      <td>2017</td>\n",
       "      <td>chrysler 200</td>\n",
       "      <td>4</td>\n",
       "      <td>4</td>\n",
       "      <td>gas</td>\n",
       "      <td>80903.0</td>\n",
       "      <td>automatic</td>\n",
       "      <td>sedan</td>\n",
       "      <td>black</td>\n",
       "      <td>False</td>\n",
       "      <td>2019-04-02</td>\n",
       "      <td>28</td>\n",
       "      <td>2019</td>\n",
       "      <td>4</td>\n",
       "      <td>1</td>\n",
       "      <td>3</td>\n",
       "      <td>26967.666667</td>\n",
       "    </tr>\n",
       "    <tr>\n",
       "      <th>5</th>\n",
       "      <td>14990</td>\n",
       "      <td>2014</td>\n",
       "      <td>chrysler 300</td>\n",
       "      <td>4</td>\n",
       "      <td>6</td>\n",
       "      <td>gas</td>\n",
       "      <td>57954.0</td>\n",
       "      <td>automatic</td>\n",
       "      <td>sedan</td>\n",
       "      <td>black</td>\n",
       "      <td>True</td>\n",
       "      <td>2018-06-20</td>\n",
       "      <td>15</td>\n",
       "      <td>2018</td>\n",
       "      <td>6</td>\n",
       "      <td>2</td>\n",
       "      <td>5</td>\n",
       "      <td>11590.800000</td>\n",
       "    </tr>\n",
       "    <tr>\n",
       "      <th>8</th>\n",
       "      <td>11500</td>\n",
       "      <td>2012</td>\n",
       "      <td>kia sorento</td>\n",
       "      <td>4</td>\n",
       "      <td>4</td>\n",
       "      <td>gas</td>\n",
       "      <td>104174.0</td>\n",
       "      <td>automatic</td>\n",
       "      <td>SUV</td>\n",
       "      <td>other</td>\n",
       "      <td>True</td>\n",
       "      <td>2018-07-16</td>\n",
       "      <td>19</td>\n",
       "      <td>2018</td>\n",
       "      <td>7</td>\n",
       "      <td>0</td>\n",
       "      <td>7</td>\n",
       "      <td>14882.000000</td>\n",
       "    </tr>\n",
       "    <tr>\n",
       "      <th>...</th>\n",
       "      <td>...</td>\n",
       "      <td>...</td>\n",
       "      <td>...</td>\n",
       "      <td>...</td>\n",
       "      <td>...</td>\n",
       "      <td>...</td>\n",
       "      <td>...</td>\n",
       "      <td>...</td>\n",
       "      <td>...</td>\n",
       "      <td>...</td>\n",
       "      <td>...</td>\n",
       "      <td>...</td>\n",
       "      <td>...</td>\n",
       "      <td>...</td>\n",
       "      <td>...</td>\n",
       "      <td>...</td>\n",
       "      <td>...</td>\n",
       "      <td>...</td>\n",
       "    </tr>\n",
       "    <tr>\n",
       "      <th>51509</th>\n",
       "      <td>5980</td>\n",
       "      <td>2010</td>\n",
       "      <td>subaru impreza</td>\n",
       "      <td>4</td>\n",
       "      <td>4</td>\n",
       "      <td>gas</td>\n",
       "      <td>121778.0</td>\n",
       "      <td>manual</td>\n",
       "      <td>hatchback</td>\n",
       "      <td>white</td>\n",
       "      <td>True</td>\n",
       "      <td>2019-01-10</td>\n",
       "      <td>8</td>\n",
       "      <td>2019</td>\n",
       "      <td>1</td>\n",
       "      <td>3</td>\n",
       "      <td>10</td>\n",
       "      <td>12177.800000</td>\n",
       "    </tr>\n",
       "    <tr>\n",
       "      <th>51513</th>\n",
       "      <td>17999</td>\n",
       "      <td>2014</td>\n",
       "      <td>ram 1500</td>\n",
       "      <td>5</td>\n",
       "      <td>8</td>\n",
       "      <td>gas</td>\n",
       "      <td>154000.0</td>\n",
       "      <td>automatic</td>\n",
       "      <td>pickup</td>\n",
       "      <td>white</td>\n",
       "      <td>True</td>\n",
       "      <td>2018-06-21</td>\n",
       "      <td>11</td>\n",
       "      <td>2018</td>\n",
       "      <td>6</td>\n",
       "      <td>3</td>\n",
       "      <td>5</td>\n",
       "      <td>30800.000000</td>\n",
       "    </tr>\n",
       "    <tr>\n",
       "      <th>51521</th>\n",
       "      <td>2700</td>\n",
       "      <td>2002</td>\n",
       "      <td>honda civic</td>\n",
       "      <td>1</td>\n",
       "      <td>4</td>\n",
       "      <td>gas</td>\n",
       "      <td>181500.0</td>\n",
       "      <td>automatic</td>\n",
       "      <td>sedan</td>\n",
       "      <td>white</td>\n",
       "      <td>False</td>\n",
       "      <td>2018-11-14</td>\n",
       "      <td>22</td>\n",
       "      <td>2018</td>\n",
       "      <td>11</td>\n",
       "      <td>2</td>\n",
       "      <td>17</td>\n",
       "      <td>10676.470588</td>\n",
       "    </tr>\n",
       "    <tr>\n",
       "      <th>51522</th>\n",
       "      <td>3950</td>\n",
       "      <td>2009</td>\n",
       "      <td>hyundai sonata</td>\n",
       "      <td>4</td>\n",
       "      <td>4</td>\n",
       "      <td>gas</td>\n",
       "      <td>128000.0</td>\n",
       "      <td>automatic</td>\n",
       "      <td>sedan</td>\n",
       "      <td>blue</td>\n",
       "      <td>False</td>\n",
       "      <td>2018-11-15</td>\n",
       "      <td>32</td>\n",
       "      <td>2018</td>\n",
       "      <td>11</td>\n",
       "      <td>3</td>\n",
       "      <td>10</td>\n",
       "      <td>12800.000000</td>\n",
       "    </tr>\n",
       "    <tr>\n",
       "      <th>51524</th>\n",
       "      <td>6300</td>\n",
       "      <td>2014</td>\n",
       "      <td>nissan altima</td>\n",
       "      <td>3</td>\n",
       "      <td>4</td>\n",
       "      <td>gas</td>\n",
       "      <td>129000.0</td>\n",
       "      <td>automatic</td>\n",
       "      <td>sedan</td>\n",
       "      <td>other</td>\n",
       "      <td>False</td>\n",
       "      <td>2018-06-05</td>\n",
       "      <td>10</td>\n",
       "      <td>2018</td>\n",
       "      <td>6</td>\n",
       "      <td>1</td>\n",
       "      <td>5</td>\n",
       "      <td>25800.000000</td>\n",
       "    </tr>\n",
       "  </tbody>\n",
       "</table>\n",
       "<p>23388 rows × 18 columns</p>\n",
       "</div>"
      ],
      "text/plain": [
       "       price  model_year           model  condition  cylinders fuel  odometer  \\\n",
       "0       9400        2011          bmw x5          3          6  gas  145000.0   \n",
       "3       1500        2003      ford f-150          2          8  gas  181613.0   \n",
       "4      14900        2017    chrysler 200          4          4  gas   80903.0   \n",
       "5      14990        2014    chrysler 300          4          6  gas   57954.0   \n",
       "8      11500        2012     kia sorento          4          4  gas  104174.0   \n",
       "...      ...         ...             ...        ...        ...  ...       ...   \n",
       "51509   5980        2010  subaru impreza          4          4  gas  121778.0   \n",
       "51513  17999        2014        ram 1500          5          8  gas  154000.0   \n",
       "51521   2700        2002     honda civic          1          4  gas  181500.0   \n",
       "51522   3950        2009  hyundai sonata          4          4  gas  128000.0   \n",
       "51524   6300        2014   nissan altima          3          4  gas  129000.0   \n",
       "\n",
       "      transmission       type paint_color  is_4wd date_posted  days_listed  \\\n",
       "0        automatic        SUV       other    True  2018-06-23           19   \n",
       "3        automatic     pickup       other   False  2019-03-22            9   \n",
       "4        automatic      sedan       black   False  2019-04-02           28   \n",
       "5        automatic      sedan       black    True  2018-06-20           15   \n",
       "8        automatic        SUV       other    True  2018-07-16           19   \n",
       "...            ...        ...         ...     ...         ...          ...   \n",
       "51509       manual  hatchback       white    True  2019-01-10            8   \n",
       "51513    automatic     pickup       white    True  2018-06-21           11   \n",
       "51521    automatic      sedan       white   False  2018-11-14           22   \n",
       "51522    automatic      sedan        blue   False  2018-11-15           32   \n",
       "51524    automatic      sedan       other   False  2018-06-05           10   \n",
       "\n",
       "       year_posted  month_posted  day_posted  years_old  miles_per_year  \n",
       "0             2018             6           5          8    18125.000000  \n",
       "3             2019             3           4         17    10683.117647  \n",
       "4             2019             4           1          3    26967.666667  \n",
       "5             2018             6           2          5    11590.800000  \n",
       "8             2018             7           0          7    14882.000000  \n",
       "...            ...           ...         ...        ...             ...  \n",
       "51509         2019             1           3         10    12177.800000  \n",
       "51513         2018             6           3          5    30800.000000  \n",
       "51521         2018            11           2         17    10676.470588  \n",
       "51522         2018            11           3         10    12800.000000  \n",
       "51524         2018             6           1          5    25800.000000  \n",
       "\n",
       "[23388 rows x 18 columns]"
      ]
     },
     "execution_count": 60,
     "metadata": {},
     "output_type": "execute_result"
    }
   ],
   "source": [
    "quick_ads = df_filtered[df_filtered['days_listed'] < median_ads]\n",
    "quick_ads"
   ]
  },
  {
   "cell_type": "code",
   "execution_count": 61,
   "metadata": {
    "scrolled": true
   },
   "outputs": [
    {
     "data": {
      "text/html": [
       "<div>\n",
       "<style scoped>\n",
       "    .dataframe tbody tr th:only-of-type {\n",
       "        vertical-align: middle;\n",
       "    }\n",
       "\n",
       "    .dataframe tbody tr th {\n",
       "        vertical-align: top;\n",
       "    }\n",
       "\n",
       "    .dataframe thead th {\n",
       "        text-align: right;\n",
       "    }\n",
       "</style>\n",
       "<table border=\"1\" class=\"dataframe\">\n",
       "  <thead>\n",
       "    <tr style=\"text-align: right;\">\n",
       "      <th></th>\n",
       "      <th>price</th>\n",
       "      <th>model_year</th>\n",
       "      <th>condition</th>\n",
       "      <th>cylinders</th>\n",
       "      <th>odometer</th>\n",
       "      <th>is_4wd</th>\n",
       "      <th>days_listed</th>\n",
       "      <th>year_posted</th>\n",
       "      <th>month_posted</th>\n",
       "      <th>day_posted</th>\n",
       "      <th>years_old</th>\n",
       "      <th>miles_per_year</th>\n",
       "    </tr>\n",
       "  </thead>\n",
       "  <tbody>\n",
       "    <tr>\n",
       "      <th>price</th>\n",
       "      <td>1.000000</td>\n",
       "      <td>0.509240</td>\n",
       "      <td>0.187483</td>\n",
       "      <td>0.310204</td>\n",
       "      <td>-0.407449</td>\n",
       "      <td>0.334142</td>\n",
       "      <td>-0.001080</td>\n",
       "      <td>0.011779</td>\n",
       "      <td>-0.014189</td>\n",
       "      <td>-0.002401</td>\n",
       "      <td>-0.505930</td>\n",
       "      <td>0.190203</td>\n",
       "    </tr>\n",
       "    <tr>\n",
       "      <th>model_year</th>\n",
       "      <td>0.509240</td>\n",
       "      <td>1.000000</td>\n",
       "      <td>0.270374</td>\n",
       "      <td>-0.152636</td>\n",
       "      <td>-0.537291</td>\n",
       "      <td>-0.018151</td>\n",
       "      <td>-0.006646</td>\n",
       "      <td>0.001377</td>\n",
       "      <td>-0.008965</td>\n",
       "      <td>0.003519</td>\n",
       "      <td>-0.995551</td>\n",
       "      <td>0.469488</td>\n",
       "    </tr>\n",
       "    <tr>\n",
       "      <th>condition</th>\n",
       "      <td>0.187483</td>\n",
       "      <td>0.270374</td>\n",
       "      <td>1.000000</td>\n",
       "      <td>-0.079993</td>\n",
       "      <td>-0.303449</td>\n",
       "      <td>0.002558</td>\n",
       "      <td>-0.004587</td>\n",
       "      <td>0.004231</td>\n",
       "      <td>-0.000870</td>\n",
       "      <td>0.003344</td>\n",
       "      <td>-0.268807</td>\n",
       "      <td>0.026074</td>\n",
       "    </tr>\n",
       "    <tr>\n",
       "      <th>cylinders</th>\n",
       "      <td>0.310204</td>\n",
       "      <td>-0.152636</td>\n",
       "      <td>-0.079993</td>\n",
       "      <td>1.000000</td>\n",
       "      <td>0.114145</td>\n",
       "      <td>0.416513</td>\n",
       "      <td>0.005811</td>\n",
       "      <td>0.002232</td>\n",
       "      <td>0.000032</td>\n",
       "      <td>-0.000034</td>\n",
       "      <td>0.152187</td>\n",
       "      <td>-0.042638</td>\n",
       "    </tr>\n",
       "    <tr>\n",
       "      <th>odometer</th>\n",
       "      <td>-0.407449</td>\n",
       "      <td>-0.537291</td>\n",
       "      <td>-0.303449</td>\n",
       "      <td>0.114145</td>\n",
       "      <td>1.000000</td>\n",
       "      <td>0.049788</td>\n",
       "      <td>0.003427</td>\n",
       "      <td>-0.005638</td>\n",
       "      <td>0.010490</td>\n",
       "      <td>0.002399</td>\n",
       "      <td>0.534439</td>\n",
       "      <td>0.172803</td>\n",
       "    </tr>\n",
       "    <tr>\n",
       "      <th>is_4wd</th>\n",
       "      <td>0.334142</td>\n",
       "      <td>-0.018151</td>\n",
       "      <td>0.002558</td>\n",
       "      <td>0.416513</td>\n",
       "      <td>0.049788</td>\n",
       "      <td>1.000000</td>\n",
       "      <td>0.004149</td>\n",
       "      <td>-0.001846</td>\n",
       "      <td>0.004713</td>\n",
       "      <td>0.000086</td>\n",
       "      <td>0.017899</td>\n",
       "      <td>0.025288</td>\n",
       "    </tr>\n",
       "    <tr>\n",
       "      <th>days_listed</th>\n",
       "      <td>-0.001080</td>\n",
       "      <td>-0.006646</td>\n",
       "      <td>-0.004587</td>\n",
       "      <td>0.005811</td>\n",
       "      <td>0.003427</td>\n",
       "      <td>0.004149</td>\n",
       "      <td>1.000000</td>\n",
       "      <td>0.008679</td>\n",
       "      <td>-0.006702</td>\n",
       "      <td>0.007398</td>\n",
       "      <td>0.007435</td>\n",
       "      <td>-0.004254</td>\n",
       "    </tr>\n",
       "    <tr>\n",
       "      <th>year_posted</th>\n",
       "      <td>0.011779</td>\n",
       "      <td>0.001377</td>\n",
       "      <td>0.004231</td>\n",
       "      <td>0.002232</td>\n",
       "      <td>-0.005638</td>\n",
       "      <td>-0.001846</td>\n",
       "      <td>0.008679</td>\n",
       "      <td>1.000000</td>\n",
       "      <td>-0.819459</td>\n",
       "      <td>-0.015442</td>\n",
       "      <td>0.092853</td>\n",
       "      <td>-0.113915</td>\n",
       "    </tr>\n",
       "    <tr>\n",
       "      <th>month_posted</th>\n",
       "      <td>-0.014189</td>\n",
       "      <td>-0.008965</td>\n",
       "      <td>-0.000870</td>\n",
       "      <td>0.000032</td>\n",
       "      <td>0.010490</td>\n",
       "      <td>0.004713</td>\n",
       "      <td>-0.006702</td>\n",
       "      <td>-0.819459</td>\n",
       "      <td>1.000000</td>\n",
       "      <td>0.015593</td>\n",
       "      <td>-0.068288</td>\n",
       "      <td>0.093388</td>\n",
       "    </tr>\n",
       "    <tr>\n",
       "      <th>day_posted</th>\n",
       "      <td>-0.002401</td>\n",
       "      <td>0.003519</td>\n",
       "      <td>0.003344</td>\n",
       "      <td>-0.000034</td>\n",
       "      <td>0.002399</td>\n",
       "      <td>0.000086</td>\n",
       "      <td>0.007398</td>\n",
       "      <td>-0.015442</td>\n",
       "      <td>0.015593</td>\n",
       "      <td>1.000000</td>\n",
       "      <td>-0.004959</td>\n",
       "      <td>0.001465</td>\n",
       "    </tr>\n",
       "    <tr>\n",
       "      <th>years_old</th>\n",
       "      <td>-0.505930</td>\n",
       "      <td>-0.995551</td>\n",
       "      <td>-0.268807</td>\n",
       "      <td>0.152187</td>\n",
       "      <td>0.534439</td>\n",
       "      <td>0.017899</td>\n",
       "      <td>0.007435</td>\n",
       "      <td>0.092853</td>\n",
       "      <td>-0.068288</td>\n",
       "      <td>-0.004959</td>\n",
       "      <td>1.000000</td>\n",
       "      <td>-0.478194</td>\n",
       "    </tr>\n",
       "    <tr>\n",
       "      <th>miles_per_year</th>\n",
       "      <td>0.190203</td>\n",
       "      <td>0.469488</td>\n",
       "      <td>0.026074</td>\n",
       "      <td>-0.042638</td>\n",
       "      <td>0.172803</td>\n",
       "      <td>0.025288</td>\n",
       "      <td>-0.004254</td>\n",
       "      <td>-0.113915</td>\n",
       "      <td>0.093388</td>\n",
       "      <td>0.001465</td>\n",
       "      <td>-0.478194</td>\n",
       "      <td>1.000000</td>\n",
       "    </tr>\n",
       "  </tbody>\n",
       "</table>\n",
       "</div>"
      ],
      "text/plain": [
       "                   price  model_year  condition  cylinders  odometer  \\\n",
       "price           1.000000    0.509240   0.187483   0.310204 -0.407449   \n",
       "model_year      0.509240    1.000000   0.270374  -0.152636 -0.537291   \n",
       "condition       0.187483    0.270374   1.000000  -0.079993 -0.303449   \n",
       "cylinders       0.310204   -0.152636  -0.079993   1.000000  0.114145   \n",
       "odometer       -0.407449   -0.537291  -0.303449   0.114145  1.000000   \n",
       "is_4wd          0.334142   -0.018151   0.002558   0.416513  0.049788   \n",
       "days_listed    -0.001080   -0.006646  -0.004587   0.005811  0.003427   \n",
       "year_posted     0.011779    0.001377   0.004231   0.002232 -0.005638   \n",
       "month_posted   -0.014189   -0.008965  -0.000870   0.000032  0.010490   \n",
       "day_posted     -0.002401    0.003519   0.003344  -0.000034  0.002399   \n",
       "years_old      -0.505930   -0.995551  -0.268807   0.152187  0.534439   \n",
       "miles_per_year  0.190203    0.469488   0.026074  -0.042638  0.172803   \n",
       "\n",
       "                  is_4wd  days_listed  year_posted  month_posted  day_posted  \\\n",
       "price           0.334142    -0.001080     0.011779     -0.014189   -0.002401   \n",
       "model_year     -0.018151    -0.006646     0.001377     -0.008965    0.003519   \n",
       "condition       0.002558    -0.004587     0.004231     -0.000870    0.003344   \n",
       "cylinders       0.416513     0.005811     0.002232      0.000032   -0.000034   \n",
       "odometer        0.049788     0.003427    -0.005638      0.010490    0.002399   \n",
       "is_4wd          1.000000     0.004149    -0.001846      0.004713    0.000086   \n",
       "days_listed     0.004149     1.000000     0.008679     -0.006702    0.007398   \n",
       "year_posted    -0.001846     0.008679     1.000000     -0.819459   -0.015442   \n",
       "month_posted    0.004713    -0.006702    -0.819459      1.000000    0.015593   \n",
       "day_posted      0.000086     0.007398    -0.015442      0.015593    1.000000   \n",
       "years_old       0.017899     0.007435     0.092853     -0.068288   -0.004959   \n",
       "miles_per_year  0.025288    -0.004254    -0.113915      0.093388    0.001465   \n",
       "\n",
       "                years_old  miles_per_year  \n",
       "price           -0.505930        0.190203  \n",
       "model_year      -0.995551        0.469488  \n",
       "condition       -0.268807        0.026074  \n",
       "cylinders        0.152187       -0.042638  \n",
       "odometer         0.534439        0.172803  \n",
       "is_4wd           0.017899        0.025288  \n",
       "days_listed      0.007435       -0.004254  \n",
       "year_posted      0.092853       -0.113915  \n",
       "month_posted    -0.068288        0.093388  \n",
       "day_posted      -0.004959        0.001465  \n",
       "years_old        1.000000       -0.478194  \n",
       "miles_per_year  -0.478194        1.000000  "
      ]
     },
     "execution_count": 61,
     "metadata": {},
     "output_type": "execute_result"
    }
   ],
   "source": [
    "quick_ads.corr()"
   ]
  },
  {
   "cell_type": "markdown",
   "metadata": {},
   "source": [
    "Podemos ver en la columna **'days_listed'** que no tenemos relación alguna con cualquier otra variable de nuestro dataframe, por lo que nos hace concluir que simplemente esos vehiculos se publicaron en el momento adecuado. "
   ]
  },
  {
   "cell_type": "code",
   "execution_count": 62,
   "metadata": {},
   "outputs": [
    {
     "data": {
      "text/html": [
       "<div>\n",
       "<style scoped>\n",
       "    .dataframe tbody tr th:only-of-type {\n",
       "        vertical-align: middle;\n",
       "    }\n",
       "\n",
       "    .dataframe tbody tr th {\n",
       "        vertical-align: top;\n",
       "    }\n",
       "\n",
       "    .dataframe thead th {\n",
       "        text-align: right;\n",
       "    }\n",
       "</style>\n",
       "<table border=\"1\" class=\"dataframe\">\n",
       "  <thead>\n",
       "    <tr style=\"text-align: right;\">\n",
       "      <th></th>\n",
       "      <th>price</th>\n",
       "      <th>model_year</th>\n",
       "      <th>model</th>\n",
       "      <th>condition</th>\n",
       "      <th>cylinders</th>\n",
       "      <th>fuel</th>\n",
       "      <th>odometer</th>\n",
       "      <th>transmission</th>\n",
       "      <th>type</th>\n",
       "      <th>paint_color</th>\n",
       "      <th>is_4wd</th>\n",
       "      <th>date_posted</th>\n",
       "      <th>days_listed</th>\n",
       "      <th>year_posted</th>\n",
       "      <th>month_posted</th>\n",
       "      <th>day_posted</th>\n",
       "      <th>years_old</th>\n",
       "      <th>miles_per_year</th>\n",
       "    </tr>\n",
       "  </thead>\n",
       "  <tbody>\n",
       "    <tr>\n",
       "      <th>1</th>\n",
       "      <td>25500</td>\n",
       "      <td>2011</td>\n",
       "      <td>ford f-150</td>\n",
       "      <td>3</td>\n",
       "      <td>6</td>\n",
       "      <td>gas</td>\n",
       "      <td>88705.0</td>\n",
       "      <td>automatic</td>\n",
       "      <td>pickup</td>\n",
       "      <td>white</td>\n",
       "      <td>True</td>\n",
       "      <td>2018-10-19</td>\n",
       "      <td>50</td>\n",
       "      <td>2018</td>\n",
       "      <td>10</td>\n",
       "      <td>4</td>\n",
       "      <td>8</td>\n",
       "      <td>11088.125000</td>\n",
       "    </tr>\n",
       "    <tr>\n",
       "      <th>2</th>\n",
       "      <td>5500</td>\n",
       "      <td>2013</td>\n",
       "      <td>hyundai sonata</td>\n",
       "      <td>5</td>\n",
       "      <td>4</td>\n",
       "      <td>gas</td>\n",
       "      <td>110000.0</td>\n",
       "      <td>automatic</td>\n",
       "      <td>sedan</td>\n",
       "      <td>red</td>\n",
       "      <td>False</td>\n",
       "      <td>2019-02-07</td>\n",
       "      <td>79</td>\n",
       "      <td>2019</td>\n",
       "      <td>2</td>\n",
       "      <td>3</td>\n",
       "      <td>7</td>\n",
       "      <td>15714.285714</td>\n",
       "    </tr>\n",
       "    <tr>\n",
       "      <th>6</th>\n",
       "      <td>12990</td>\n",
       "      <td>2015</td>\n",
       "      <td>toyota camry</td>\n",
       "      <td>4</td>\n",
       "      <td>4</td>\n",
       "      <td>gas</td>\n",
       "      <td>79212.0</td>\n",
       "      <td>automatic</td>\n",
       "      <td>sedan</td>\n",
       "      <td>white</td>\n",
       "      <td>False</td>\n",
       "      <td>2018-12-27</td>\n",
       "      <td>73</td>\n",
       "      <td>2018</td>\n",
       "      <td>12</td>\n",
       "      <td>3</td>\n",
       "      <td>4</td>\n",
       "      <td>19803.000000</td>\n",
       "    </tr>\n",
       "    <tr>\n",
       "      <th>7</th>\n",
       "      <td>15990</td>\n",
       "      <td>2013</td>\n",
       "      <td>honda pilot</td>\n",
       "      <td>4</td>\n",
       "      <td>6</td>\n",
       "      <td>gas</td>\n",
       "      <td>109473.0</td>\n",
       "      <td>automatic</td>\n",
       "      <td>SUV</td>\n",
       "      <td>black</td>\n",
       "      <td>True</td>\n",
       "      <td>2019-01-07</td>\n",
       "      <td>68</td>\n",
       "      <td>2019</td>\n",
       "      <td>1</td>\n",
       "      <td>0</td>\n",
       "      <td>7</td>\n",
       "      <td>15639.000000</td>\n",
       "    </tr>\n",
       "    <tr>\n",
       "      <th>15</th>\n",
       "      <td>17990</td>\n",
       "      <td>2013</td>\n",
       "      <td>ram 1500</td>\n",
       "      <td>4</td>\n",
       "      <td>8</td>\n",
       "      <td>gas</td>\n",
       "      <td>104230.0</td>\n",
       "      <td>automatic</td>\n",
       "      <td>pickup</td>\n",
       "      <td>red</td>\n",
       "      <td>True</td>\n",
       "      <td>2018-05-15</td>\n",
       "      <td>111</td>\n",
       "      <td>2018</td>\n",
       "      <td>5</td>\n",
       "      <td>1</td>\n",
       "      <td>6</td>\n",
       "      <td>17371.666667</td>\n",
       "    </tr>\n",
       "    <tr>\n",
       "      <th>...</th>\n",
       "      <td>...</td>\n",
       "      <td>...</td>\n",
       "      <td>...</td>\n",
       "      <td>...</td>\n",
       "      <td>...</td>\n",
       "      <td>...</td>\n",
       "      <td>...</td>\n",
       "      <td>...</td>\n",
       "      <td>...</td>\n",
       "      <td>...</td>\n",
       "      <td>...</td>\n",
       "      <td>...</td>\n",
       "      <td>...</td>\n",
       "      <td>...</td>\n",
       "      <td>...</td>\n",
       "      <td>...</td>\n",
       "      <td>...</td>\n",
       "      <td>...</td>\n",
       "    </tr>\n",
       "    <tr>\n",
       "      <th>51516</th>\n",
       "      <td>8999</td>\n",
       "      <td>2011</td>\n",
       "      <td>jeep grand cherokee</td>\n",
       "      <td>3</td>\n",
       "      <td>6</td>\n",
       "      <td>gas</td>\n",
       "      <td>129000.0</td>\n",
       "      <td>automatic</td>\n",
       "      <td>SUV</td>\n",
       "      <td>white</td>\n",
       "      <td>True</td>\n",
       "      <td>2018-11-01</td>\n",
       "      <td>51</td>\n",
       "      <td>2018</td>\n",
       "      <td>11</td>\n",
       "      <td>3</td>\n",
       "      <td>8</td>\n",
       "      <td>16125.000000</td>\n",
       "    </tr>\n",
       "    <tr>\n",
       "      <th>51517</th>\n",
       "      <td>11000</td>\n",
       "      <td>2012</td>\n",
       "      <td>dodge charger</td>\n",
       "      <td>4</td>\n",
       "      <td>8</td>\n",
       "      <td>gas</td>\n",
       "      <td>81000.0</td>\n",
       "      <td>automatic</td>\n",
       "      <td>sedan</td>\n",
       "      <td>black</td>\n",
       "      <td>False</td>\n",
       "      <td>2019-04-19</td>\n",
       "      <td>44</td>\n",
       "      <td>2019</td>\n",
       "      <td>4</td>\n",
       "      <td>4</td>\n",
       "      <td>8</td>\n",
       "      <td>10125.000000</td>\n",
       "    </tr>\n",
       "    <tr>\n",
       "      <th>51518</th>\n",
       "      <td>3750</td>\n",
       "      <td>2005</td>\n",
       "      <td>ford taurus</td>\n",
       "      <td>4</td>\n",
       "      <td>6</td>\n",
       "      <td>gas</td>\n",
       "      <td>110200.0</td>\n",
       "      <td>automatic</td>\n",
       "      <td>sedan</td>\n",
       "      <td>silver</td>\n",
       "      <td>False</td>\n",
       "      <td>2018-08-10</td>\n",
       "      <td>63</td>\n",
       "      <td>2018</td>\n",
       "      <td>8</td>\n",
       "      <td>4</td>\n",
       "      <td>14</td>\n",
       "      <td>7871.428571</td>\n",
       "    </tr>\n",
       "    <tr>\n",
       "      <th>51519</th>\n",
       "      <td>11750</td>\n",
       "      <td>2015</td>\n",
       "      <td>honda accord</td>\n",
       "      <td>4</td>\n",
       "      <td>4</td>\n",
       "      <td>gas</td>\n",
       "      <td>104230.0</td>\n",
       "      <td>automatic</td>\n",
       "      <td>coupe</td>\n",
       "      <td>other</td>\n",
       "      <td>False</td>\n",
       "      <td>2018-11-24</td>\n",
       "      <td>89</td>\n",
       "      <td>2018</td>\n",
       "      <td>11</td>\n",
       "      <td>5</td>\n",
       "      <td>4</td>\n",
       "      <td>26057.500000</td>\n",
       "    </tr>\n",
       "    <tr>\n",
       "      <th>51523</th>\n",
       "      <td>7455</td>\n",
       "      <td>2013</td>\n",
       "      <td>toyota corolla</td>\n",
       "      <td>3</td>\n",
       "      <td>4</td>\n",
       "      <td>gas</td>\n",
       "      <td>139573.0</td>\n",
       "      <td>automatic</td>\n",
       "      <td>sedan</td>\n",
       "      <td>black</td>\n",
       "      <td>False</td>\n",
       "      <td>2018-07-02</td>\n",
       "      <td>71</td>\n",
       "      <td>2018</td>\n",
       "      <td>7</td>\n",
       "      <td>0</td>\n",
       "      <td>6</td>\n",
       "      <td>23262.166667</td>\n",
       "    </tr>\n",
       "  </tbody>\n",
       "</table>\n",
       "<p>19391 rows × 18 columns</p>\n",
       "</div>"
      ],
      "text/plain": [
       "       price  model_year                model  condition  cylinders fuel  \\\n",
       "1      25500        2011           ford f-150          3          6  gas   \n",
       "2       5500        2013       hyundai sonata          5          4  gas   \n",
       "6      12990        2015         toyota camry          4          4  gas   \n",
       "7      15990        2013          honda pilot          4          6  gas   \n",
       "15     17990        2013             ram 1500          4          8  gas   \n",
       "...      ...         ...                  ...        ...        ...  ...   \n",
       "51516   8999        2011  jeep grand cherokee          3          6  gas   \n",
       "51517  11000        2012        dodge charger          4          8  gas   \n",
       "51518   3750        2005          ford taurus          4          6  gas   \n",
       "51519  11750        2015         honda accord          4          4  gas   \n",
       "51523   7455        2013       toyota corolla          3          4  gas   \n",
       "\n",
       "       odometer transmission    type paint_color  is_4wd date_posted  \\\n",
       "1       88705.0    automatic  pickup       white    True  2018-10-19   \n",
       "2      110000.0    automatic   sedan         red   False  2019-02-07   \n",
       "6       79212.0    automatic   sedan       white   False  2018-12-27   \n",
       "7      109473.0    automatic     SUV       black    True  2019-01-07   \n",
       "15     104230.0    automatic  pickup         red    True  2018-05-15   \n",
       "...         ...          ...     ...         ...     ...         ...   \n",
       "51516  129000.0    automatic     SUV       white    True  2018-11-01   \n",
       "51517   81000.0    automatic   sedan       black   False  2019-04-19   \n",
       "51518  110200.0    automatic   sedan      silver   False  2018-08-10   \n",
       "51519  104230.0    automatic   coupe       other   False  2018-11-24   \n",
       "51523  139573.0    automatic   sedan       black   False  2018-07-02   \n",
       "\n",
       "       days_listed  year_posted  month_posted  day_posted  years_old  \\\n",
       "1               50         2018            10           4          8   \n",
       "2               79         2019             2           3          7   \n",
       "6               73         2018            12           3          4   \n",
       "7               68         2019             1           0          7   \n",
       "15             111         2018             5           1          6   \n",
       "...            ...          ...           ...         ...        ...   \n",
       "51516           51         2018            11           3          8   \n",
       "51517           44         2019             4           4          8   \n",
       "51518           63         2018             8           4         14   \n",
       "51519           89         2018            11           5          4   \n",
       "51523           71         2018             7           0          6   \n",
       "\n",
       "       miles_per_year  \n",
       "1        11088.125000  \n",
       "2        15714.285714  \n",
       "6        19803.000000  \n",
       "7        15639.000000  \n",
       "15       17371.666667  \n",
       "...               ...  \n",
       "51516    16125.000000  \n",
       "51517    10125.000000  \n",
       "51518     7871.428571  \n",
       "51519    26057.500000  \n",
       "51523    23262.166667  \n",
       "\n",
       "[19391 rows x 18 columns]"
      ]
     },
     "execution_count": 62,
     "metadata": {},
     "output_type": "execute_result"
    }
   ],
   "source": [
    "longer_ads = df_filtered[df_filtered['days_listed'] > media_ads]\n",
    "longer_ads"
   ]
  },
  {
   "cell_type": "code",
   "execution_count": 63,
   "metadata": {
    "scrolled": true
   },
   "outputs": [
    {
     "data": {
      "text/html": [
       "<div>\n",
       "<style scoped>\n",
       "    .dataframe tbody tr th:only-of-type {\n",
       "        vertical-align: middle;\n",
       "    }\n",
       "\n",
       "    .dataframe tbody tr th {\n",
       "        vertical-align: top;\n",
       "    }\n",
       "\n",
       "    .dataframe thead th {\n",
       "        text-align: right;\n",
       "    }\n",
       "</style>\n",
       "<table border=\"1\" class=\"dataframe\">\n",
       "  <thead>\n",
       "    <tr style=\"text-align: right;\">\n",
       "      <th></th>\n",
       "      <th>price</th>\n",
       "      <th>model_year</th>\n",
       "      <th>condition</th>\n",
       "      <th>cylinders</th>\n",
       "      <th>odometer</th>\n",
       "      <th>is_4wd</th>\n",
       "      <th>days_listed</th>\n",
       "      <th>year_posted</th>\n",
       "      <th>month_posted</th>\n",
       "      <th>day_posted</th>\n",
       "      <th>years_old</th>\n",
       "      <th>miles_per_year</th>\n",
       "    </tr>\n",
       "  </thead>\n",
       "  <tbody>\n",
       "    <tr>\n",
       "      <th>price</th>\n",
       "      <td>1.000000</td>\n",
       "      <td>0.513754</td>\n",
       "      <td>0.173662</td>\n",
       "      <td>0.319723</td>\n",
       "      <td>-0.405194</td>\n",
       "      <td>0.337290</td>\n",
       "      <td>-0.003489</td>\n",
       "      <td>-0.004272</td>\n",
       "      <td>0.001422</td>\n",
       "      <td>0.000131</td>\n",
       "      <td>-0.512655</td>\n",
       "      <td>0.203176</td>\n",
       "    </tr>\n",
       "    <tr>\n",
       "      <th>model_year</th>\n",
       "      <td>0.513754</td>\n",
       "      <td>1.000000</td>\n",
       "      <td>0.257683</td>\n",
       "      <td>-0.144088</td>\n",
       "      <td>-0.529693</td>\n",
       "      <td>-0.015424</td>\n",
       "      <td>0.003340</td>\n",
       "      <td>0.016955</td>\n",
       "      <td>-0.014400</td>\n",
       "      <td>-0.003939</td>\n",
       "      <td>-0.995453</td>\n",
       "      <td>0.469793</td>\n",
       "    </tr>\n",
       "    <tr>\n",
       "      <th>condition</th>\n",
       "      <td>0.173662</td>\n",
       "      <td>0.257683</td>\n",
       "      <td>1.000000</td>\n",
       "      <td>-0.079689</td>\n",
       "      <td>-0.293902</td>\n",
       "      <td>0.002043</td>\n",
       "      <td>0.004039</td>\n",
       "      <td>-0.001000</td>\n",
       "      <td>0.001743</td>\n",
       "      <td>0.004125</td>\n",
       "      <td>-0.257023</td>\n",
       "      <td>0.012304</td>\n",
       "    </tr>\n",
       "    <tr>\n",
       "      <th>cylinders</th>\n",
       "      <td>0.319723</td>\n",
       "      <td>-0.144088</td>\n",
       "      <td>-0.079689</td>\n",
       "      <td>1.000000</td>\n",
       "      <td>0.106415</td>\n",
       "      <td>0.410942</td>\n",
       "      <td>-0.002261</td>\n",
       "      <td>-0.001001</td>\n",
       "      <td>-0.000576</td>\n",
       "      <td>-0.014836</td>\n",
       "      <td>0.143570</td>\n",
       "      <td>-0.034739</td>\n",
       "    </tr>\n",
       "    <tr>\n",
       "      <th>odometer</th>\n",
       "      <td>-0.405194</td>\n",
       "      <td>-0.529693</td>\n",
       "      <td>-0.293902</td>\n",
       "      <td>0.106415</td>\n",
       "      <td>1.000000</td>\n",
       "      <td>0.058436</td>\n",
       "      <td>0.005745</td>\n",
       "      <td>-0.002874</td>\n",
       "      <td>0.007929</td>\n",
       "      <td>-0.000384</td>\n",
       "      <td>0.527866</td>\n",
       "      <td>0.184030</td>\n",
       "    </tr>\n",
       "    <tr>\n",
       "      <th>is_4wd</th>\n",
       "      <td>0.337290</td>\n",
       "      <td>-0.015424</td>\n",
       "      <td>0.002043</td>\n",
       "      <td>0.410942</td>\n",
       "      <td>0.058436</td>\n",
       "      <td>1.000000</td>\n",
       "      <td>-0.007605</td>\n",
       "      <td>-0.000092</td>\n",
       "      <td>-0.002049</td>\n",
       "      <td>0.003541</td>\n",
       "      <td>0.015370</td>\n",
       "      <td>0.040982</td>\n",
       "    </tr>\n",
       "    <tr>\n",
       "      <th>days_listed</th>\n",
       "      <td>-0.003489</td>\n",
       "      <td>0.003340</td>\n",
       "      <td>0.004039</td>\n",
       "      <td>-0.002261</td>\n",
       "      <td>0.005745</td>\n",
       "      <td>-0.007605</td>\n",
       "      <td>1.000000</td>\n",
       "      <td>0.012449</td>\n",
       "      <td>-0.006328</td>\n",
       "      <td>0.000956</td>\n",
       "      <td>-0.002144</td>\n",
       "      <td>0.008923</td>\n",
       "    </tr>\n",
       "    <tr>\n",
       "      <th>year_posted</th>\n",
       "      <td>-0.004272</td>\n",
       "      <td>0.016955</td>\n",
       "      <td>-0.001000</td>\n",
       "      <td>-0.001001</td>\n",
       "      <td>-0.002874</td>\n",
       "      <td>-0.000092</td>\n",
       "      <td>0.012449</td>\n",
       "      <td>1.000000</td>\n",
       "      <td>-0.817307</td>\n",
       "      <td>0.004856</td>\n",
       "      <td>0.078365</td>\n",
       "      <td>-0.100044</td>\n",
       "    </tr>\n",
       "    <tr>\n",
       "      <th>month_posted</th>\n",
       "      <td>0.001422</td>\n",
       "      <td>-0.014400</td>\n",
       "      <td>0.001743</td>\n",
       "      <td>-0.000576</td>\n",
       "      <td>0.007929</td>\n",
       "      <td>-0.002049</td>\n",
       "      <td>-0.006328</td>\n",
       "      <td>-0.817307</td>\n",
       "      <td>1.000000</td>\n",
       "      <td>-0.007235</td>\n",
       "      <td>-0.063508</td>\n",
       "      <td>0.082579</td>\n",
       "    </tr>\n",
       "    <tr>\n",
       "      <th>day_posted</th>\n",
       "      <td>0.000131</td>\n",
       "      <td>-0.003939</td>\n",
       "      <td>0.004125</td>\n",
       "      <td>-0.014836</td>\n",
       "      <td>-0.000384</td>\n",
       "      <td>0.003541</td>\n",
       "      <td>0.000956</td>\n",
       "      <td>0.004856</td>\n",
       "      <td>-0.007235</td>\n",
       "      <td>1.000000</td>\n",
       "      <td>0.004390</td>\n",
       "      <td>-0.000249</td>\n",
       "    </tr>\n",
       "    <tr>\n",
       "      <th>years_old</th>\n",
       "      <td>-0.512655</td>\n",
       "      <td>-0.995453</td>\n",
       "      <td>-0.257023</td>\n",
       "      <td>0.143570</td>\n",
       "      <td>0.527866</td>\n",
       "      <td>0.015370</td>\n",
       "      <td>-0.002144</td>\n",
       "      <td>0.078365</td>\n",
       "      <td>-0.063508</td>\n",
       "      <td>0.004390</td>\n",
       "      <td>1.000000</td>\n",
       "      <td>-0.477947</td>\n",
       "    </tr>\n",
       "    <tr>\n",
       "      <th>miles_per_year</th>\n",
       "      <td>0.203176</td>\n",
       "      <td>0.469793</td>\n",
       "      <td>0.012304</td>\n",
       "      <td>-0.034739</td>\n",
       "      <td>0.184030</td>\n",
       "      <td>0.040982</td>\n",
       "      <td>0.008923</td>\n",
       "      <td>-0.100044</td>\n",
       "      <td>0.082579</td>\n",
       "      <td>-0.000249</td>\n",
       "      <td>-0.477947</td>\n",
       "      <td>1.000000</td>\n",
       "    </tr>\n",
       "  </tbody>\n",
       "</table>\n",
       "</div>"
      ],
      "text/plain": [
       "                   price  model_year  condition  cylinders  odometer  \\\n",
       "price           1.000000    0.513754   0.173662   0.319723 -0.405194   \n",
       "model_year      0.513754    1.000000   0.257683  -0.144088 -0.529693   \n",
       "condition       0.173662    0.257683   1.000000  -0.079689 -0.293902   \n",
       "cylinders       0.319723   -0.144088  -0.079689   1.000000  0.106415   \n",
       "odometer       -0.405194   -0.529693  -0.293902   0.106415  1.000000   \n",
       "is_4wd          0.337290   -0.015424   0.002043   0.410942  0.058436   \n",
       "days_listed    -0.003489    0.003340   0.004039  -0.002261  0.005745   \n",
       "year_posted    -0.004272    0.016955  -0.001000  -0.001001 -0.002874   \n",
       "month_posted    0.001422   -0.014400   0.001743  -0.000576  0.007929   \n",
       "day_posted      0.000131   -0.003939   0.004125  -0.014836 -0.000384   \n",
       "years_old      -0.512655   -0.995453  -0.257023   0.143570  0.527866   \n",
       "miles_per_year  0.203176    0.469793   0.012304  -0.034739  0.184030   \n",
       "\n",
       "                  is_4wd  days_listed  year_posted  month_posted  day_posted  \\\n",
       "price           0.337290    -0.003489    -0.004272      0.001422    0.000131   \n",
       "model_year     -0.015424     0.003340     0.016955     -0.014400   -0.003939   \n",
       "condition       0.002043     0.004039    -0.001000      0.001743    0.004125   \n",
       "cylinders       0.410942    -0.002261    -0.001001     -0.000576   -0.014836   \n",
       "odometer        0.058436     0.005745    -0.002874      0.007929   -0.000384   \n",
       "is_4wd          1.000000    -0.007605    -0.000092     -0.002049    0.003541   \n",
       "days_listed    -0.007605     1.000000     0.012449     -0.006328    0.000956   \n",
       "year_posted    -0.000092     0.012449     1.000000     -0.817307    0.004856   \n",
       "month_posted   -0.002049    -0.006328    -0.817307      1.000000   -0.007235   \n",
       "day_posted      0.003541     0.000956     0.004856     -0.007235    1.000000   \n",
       "years_old       0.015370    -0.002144     0.078365     -0.063508    0.004390   \n",
       "miles_per_year  0.040982     0.008923    -0.100044      0.082579   -0.000249   \n",
       "\n",
       "                years_old  miles_per_year  \n",
       "price           -0.512655        0.203176  \n",
       "model_year      -0.995453        0.469793  \n",
       "condition       -0.257023        0.012304  \n",
       "cylinders        0.143570       -0.034739  \n",
       "odometer         0.527866        0.184030  \n",
       "is_4wd           0.015370        0.040982  \n",
       "days_listed     -0.002144        0.008923  \n",
       "year_posted      0.078365       -0.100044  \n",
       "month_posted    -0.063508        0.082579  \n",
       "day_posted       0.004390       -0.000249  \n",
       "years_old        1.000000       -0.477947  \n",
       "miles_per_year  -0.477947        1.000000  "
      ]
     },
     "execution_count": 63,
     "metadata": {},
     "output_type": "execute_result"
    }
   ],
   "source": [
    "longer_ads.corr()"
   ]
  },
  {
   "cell_type": "markdown",
   "metadata": {},
   "source": [
    "Podemos ver en la columna **'days_listed'** que no tenemos relación alguna con cualquier otra variable de nuestro dataframe, por lo que nos hace concluir que simplemente no existe mucho interes en general de esos vehiculos. "
   ]
  },
  {
   "cell_type": "markdown",
   "metadata": {},
   "source": [
    "Ahora busquemos la duración de los anuncios **anormalmente rápidos** utilizando la desviación estándar "
   ]
  },
  {
   "cell_type": "code",
   "execution_count": 64,
   "metadata": {},
   "outputs": [],
   "source": [
    "std_ads = df_filtered['days_listed'].std()"
   ]
  },
  {
   "cell_type": "code",
   "execution_count": 65,
   "metadata": {},
   "outputs": [],
   "source": [
    "quicker_ads = df_filtered[df_filtered['days_listed'] < media_ads - std_ads]"
   ]
  },
  {
   "cell_type": "code",
   "execution_count": 66,
   "metadata": {
    "scrolled": true
   },
   "outputs": [
    {
     "data": {
      "text/html": [
       "<div>\n",
       "<style scoped>\n",
       "    .dataframe tbody tr th:only-of-type {\n",
       "        vertical-align: middle;\n",
       "    }\n",
       "\n",
       "    .dataframe tbody tr th {\n",
       "        vertical-align: top;\n",
       "    }\n",
       "\n",
       "    .dataframe thead th {\n",
       "        text-align: right;\n",
       "    }\n",
       "</style>\n",
       "<table border=\"1\" class=\"dataframe\">\n",
       "  <thead>\n",
       "    <tr style=\"text-align: right;\">\n",
       "      <th></th>\n",
       "      <th>price</th>\n",
       "      <th>model_year</th>\n",
       "      <th>model</th>\n",
       "      <th>condition</th>\n",
       "      <th>cylinders</th>\n",
       "      <th>fuel</th>\n",
       "      <th>odometer</th>\n",
       "      <th>transmission</th>\n",
       "      <th>type</th>\n",
       "      <th>paint_color</th>\n",
       "      <th>is_4wd</th>\n",
       "      <th>date_posted</th>\n",
       "      <th>days_listed</th>\n",
       "      <th>year_posted</th>\n",
       "      <th>month_posted</th>\n",
       "      <th>day_posted</th>\n",
       "      <th>years_old</th>\n",
       "      <th>miles_per_year</th>\n",
       "    </tr>\n",
       "  </thead>\n",
       "  <tbody>\n",
       "    <tr>\n",
       "      <th>3</th>\n",
       "      <td>1500</td>\n",
       "      <td>2003</td>\n",
       "      <td>ford f-150</td>\n",
       "      <td>2</td>\n",
       "      <td>8</td>\n",
       "      <td>gas</td>\n",
       "      <td>181613.0</td>\n",
       "      <td>automatic</td>\n",
       "      <td>pickup</td>\n",
       "      <td>other</td>\n",
       "      <td>False</td>\n",
       "      <td>2019-03-22</td>\n",
       "      <td>9</td>\n",
       "      <td>2019</td>\n",
       "      <td>3</td>\n",
       "      <td>4</td>\n",
       "      <td>17</td>\n",
       "      <td>10683.117647</td>\n",
       "    </tr>\n",
       "    <tr>\n",
       "      <th>21</th>\n",
       "      <td>5250</td>\n",
       "      <td>2007</td>\n",
       "      <td>toyota rav4</td>\n",
       "      <td>3</td>\n",
       "      <td>6</td>\n",
       "      <td>gas</td>\n",
       "      <td>154000.0</td>\n",
       "      <td>automatic</td>\n",
       "      <td>SUV</td>\n",
       "      <td>other</td>\n",
       "      <td>False</td>\n",
       "      <td>2018-08-22</td>\n",
       "      <td>8</td>\n",
       "      <td>2018</td>\n",
       "      <td>8</td>\n",
       "      <td>2</td>\n",
       "      <td>12</td>\n",
       "      <td>12833.333333</td>\n",
       "    </tr>\n",
       "    <tr>\n",
       "      <th>32</th>\n",
       "      <td>9499</td>\n",
       "      <td>2015</td>\n",
       "      <td>nissan altima</td>\n",
       "      <td>5</td>\n",
       "      <td>4</td>\n",
       "      <td>gas</td>\n",
       "      <td>51848.0</td>\n",
       "      <td>automatic</td>\n",
       "      <td>sedan</td>\n",
       "      <td>grey</td>\n",
       "      <td>False</td>\n",
       "      <td>2018-11-12</td>\n",
       "      <td>7</td>\n",
       "      <td>2018</td>\n",
       "      <td>11</td>\n",
       "      <td>0</td>\n",
       "      <td>4</td>\n",
       "      <td>12962.000000</td>\n",
       "    </tr>\n",
       "    <tr>\n",
       "      <th>39</th>\n",
       "      <td>8000</td>\n",
       "      <td>2009</td>\n",
       "      <td>ford f-150</td>\n",
       "      <td>3</td>\n",
       "      <td>8</td>\n",
       "      <td>gas</td>\n",
       "      <td>234000.0</td>\n",
       "      <td>automatic</td>\n",
       "      <td>truck</td>\n",
       "      <td>black</td>\n",
       "      <td>True</td>\n",
       "      <td>2019-03-31</td>\n",
       "      <td>1</td>\n",
       "      <td>2019</td>\n",
       "      <td>3</td>\n",
       "      <td>6</td>\n",
       "      <td>11</td>\n",
       "      <td>21272.727273</td>\n",
       "    </tr>\n",
       "    <tr>\n",
       "      <th>43</th>\n",
       "      <td>5100</td>\n",
       "      <td>2008</td>\n",
       "      <td>honda cr-v</td>\n",
       "      <td>4</td>\n",
       "      <td>4</td>\n",
       "      <td>gas</td>\n",
       "      <td>188000.0</td>\n",
       "      <td>automatic</td>\n",
       "      <td>SUV</td>\n",
       "      <td>red</td>\n",
       "      <td>True</td>\n",
       "      <td>2018-11-18</td>\n",
       "      <td>10</td>\n",
       "      <td>2018</td>\n",
       "      <td>11</td>\n",
       "      <td>6</td>\n",
       "      <td>11</td>\n",
       "      <td>17090.909091</td>\n",
       "    </tr>\n",
       "    <tr>\n",
       "      <th>...</th>\n",
       "      <td>...</td>\n",
       "      <td>...</td>\n",
       "      <td>...</td>\n",
       "      <td>...</td>\n",
       "      <td>...</td>\n",
       "      <td>...</td>\n",
       "      <td>...</td>\n",
       "      <td>...</td>\n",
       "      <td>...</td>\n",
       "      <td>...</td>\n",
       "      <td>...</td>\n",
       "      <td>...</td>\n",
       "      <td>...</td>\n",
       "      <td>...</td>\n",
       "      <td>...</td>\n",
       "      <td>...</td>\n",
       "      <td>...</td>\n",
       "      <td>...</td>\n",
       "    </tr>\n",
       "    <tr>\n",
       "      <th>51495</th>\n",
       "      <td>9500</td>\n",
       "      <td>2012</td>\n",
       "      <td>chevrolet traverse</td>\n",
       "      <td>3</td>\n",
       "      <td>6</td>\n",
       "      <td>gas</td>\n",
       "      <td>144500.0</td>\n",
       "      <td>automatic</td>\n",
       "      <td>SUV</td>\n",
       "      <td>other</td>\n",
       "      <td>True</td>\n",
       "      <td>2019-03-05</td>\n",
       "      <td>1</td>\n",
       "      <td>2019</td>\n",
       "      <td>3</td>\n",
       "      <td>1</td>\n",
       "      <td>8</td>\n",
       "      <td>18062.500000</td>\n",
       "    </tr>\n",
       "    <tr>\n",
       "      <th>51504</th>\n",
       "      <td>20481</td>\n",
       "      <td>2018</td>\n",
       "      <td>toyota camry</td>\n",
       "      <td>5</td>\n",
       "      <td>4</td>\n",
       "      <td>gas</td>\n",
       "      <td>38590.0</td>\n",
       "      <td>automatic</td>\n",
       "      <td>sedan</td>\n",
       "      <td>silver</td>\n",
       "      <td>False</td>\n",
       "      <td>2018-12-06</td>\n",
       "      <td>4</td>\n",
       "      <td>2018</td>\n",
       "      <td>12</td>\n",
       "      <td>3</td>\n",
       "      <td>1</td>\n",
       "      <td>38590.000000</td>\n",
       "    </tr>\n",
       "    <tr>\n",
       "      <th>51509</th>\n",
       "      <td>5980</td>\n",
       "      <td>2010</td>\n",
       "      <td>subaru impreza</td>\n",
       "      <td>4</td>\n",
       "      <td>4</td>\n",
       "      <td>gas</td>\n",
       "      <td>121778.0</td>\n",
       "      <td>manual</td>\n",
       "      <td>hatchback</td>\n",
       "      <td>white</td>\n",
       "      <td>True</td>\n",
       "      <td>2019-01-10</td>\n",
       "      <td>8</td>\n",
       "      <td>2019</td>\n",
       "      <td>1</td>\n",
       "      <td>3</td>\n",
       "      <td>10</td>\n",
       "      <td>12177.800000</td>\n",
       "    </tr>\n",
       "    <tr>\n",
       "      <th>51513</th>\n",
       "      <td>17999</td>\n",
       "      <td>2014</td>\n",
       "      <td>ram 1500</td>\n",
       "      <td>5</td>\n",
       "      <td>8</td>\n",
       "      <td>gas</td>\n",
       "      <td>154000.0</td>\n",
       "      <td>automatic</td>\n",
       "      <td>pickup</td>\n",
       "      <td>white</td>\n",
       "      <td>True</td>\n",
       "      <td>2018-06-21</td>\n",
       "      <td>11</td>\n",
       "      <td>2018</td>\n",
       "      <td>6</td>\n",
       "      <td>3</td>\n",
       "      <td>5</td>\n",
       "      <td>30800.000000</td>\n",
       "    </tr>\n",
       "    <tr>\n",
       "      <th>51524</th>\n",
       "      <td>6300</td>\n",
       "      <td>2014</td>\n",
       "      <td>nissan altima</td>\n",
       "      <td>3</td>\n",
       "      <td>4</td>\n",
       "      <td>gas</td>\n",
       "      <td>129000.0</td>\n",
       "      <td>automatic</td>\n",
       "      <td>sedan</td>\n",
       "      <td>other</td>\n",
       "      <td>False</td>\n",
       "      <td>2018-06-05</td>\n",
       "      <td>10</td>\n",
       "      <td>2018</td>\n",
       "      <td>6</td>\n",
       "      <td>1</td>\n",
       "      <td>5</td>\n",
       "      <td>25800.000000</td>\n",
       "    </tr>\n",
       "  </tbody>\n",
       "</table>\n",
       "<p>5758 rows × 18 columns</p>\n",
       "</div>"
      ],
      "text/plain": [
       "       price  model_year               model  condition  cylinders fuel  \\\n",
       "3       1500        2003          ford f-150          2          8  gas   \n",
       "21      5250        2007         toyota rav4          3          6  gas   \n",
       "32      9499        2015       nissan altima          5          4  gas   \n",
       "39      8000        2009          ford f-150          3          8  gas   \n",
       "43      5100        2008          honda cr-v          4          4  gas   \n",
       "...      ...         ...                 ...        ...        ...  ...   \n",
       "51495   9500        2012  chevrolet traverse          3          6  gas   \n",
       "51504  20481        2018        toyota camry          5          4  gas   \n",
       "51509   5980        2010      subaru impreza          4          4  gas   \n",
       "51513  17999        2014            ram 1500          5          8  gas   \n",
       "51524   6300        2014       nissan altima          3          4  gas   \n",
       "\n",
       "       odometer transmission       type paint_color  is_4wd date_posted  \\\n",
       "3      181613.0    automatic     pickup       other   False  2019-03-22   \n",
       "21     154000.0    automatic        SUV       other   False  2018-08-22   \n",
       "32      51848.0    automatic      sedan        grey   False  2018-11-12   \n",
       "39     234000.0    automatic      truck       black    True  2019-03-31   \n",
       "43     188000.0    automatic        SUV         red    True  2018-11-18   \n",
       "...         ...          ...        ...         ...     ...         ...   \n",
       "51495  144500.0    automatic        SUV       other    True  2019-03-05   \n",
       "51504   38590.0    automatic      sedan      silver   False  2018-12-06   \n",
       "51509  121778.0       manual  hatchback       white    True  2019-01-10   \n",
       "51513  154000.0    automatic     pickup       white    True  2018-06-21   \n",
       "51524  129000.0    automatic      sedan       other   False  2018-06-05   \n",
       "\n",
       "       days_listed  year_posted  month_posted  day_posted  years_old  \\\n",
       "3                9         2019             3           4         17   \n",
       "21               8         2018             8           2         12   \n",
       "32               7         2018            11           0          4   \n",
       "39               1         2019             3           6         11   \n",
       "43              10         2018            11           6         11   \n",
       "...            ...          ...           ...         ...        ...   \n",
       "51495            1         2019             3           1          8   \n",
       "51504            4         2018            12           3          1   \n",
       "51509            8         2019             1           3         10   \n",
       "51513           11         2018             6           3          5   \n",
       "51524           10         2018             6           1          5   \n",
       "\n",
       "       miles_per_year  \n",
       "3        10683.117647  \n",
       "21       12833.333333  \n",
       "32       12962.000000  \n",
       "39       21272.727273  \n",
       "43       17090.909091  \n",
       "...               ...  \n",
       "51495    18062.500000  \n",
       "51504    38590.000000  \n",
       "51509    12177.800000  \n",
       "51513    30800.000000  \n",
       "51524    25800.000000  \n",
       "\n",
       "[5758 rows x 18 columns]"
      ]
     },
     "execution_count": 66,
     "metadata": {},
     "output_type": "execute_result"
    }
   ],
   "source": [
    "quicker_ads"
   ]
  },
  {
   "cell_type": "markdown",
   "metadata": {},
   "source": [
    "Ahora busquemos la duración de los anuncios **anormalmente lentos** utilizando la desviación estándar"
   ]
  },
  {
   "cell_type": "code",
   "execution_count": 67,
   "metadata": {},
   "outputs": [],
   "source": [
    "slow_ads = df_filtered[df_filtered['days_listed'] > media_ads + std_ads]"
   ]
  },
  {
   "cell_type": "code",
   "execution_count": 68,
   "metadata": {
    "scrolled": true
   },
   "outputs": [
    {
     "data": {
      "text/html": [
       "<div>\n",
       "<style scoped>\n",
       "    .dataframe tbody tr th:only-of-type {\n",
       "        vertical-align: middle;\n",
       "    }\n",
       "\n",
       "    .dataframe tbody tr th {\n",
       "        vertical-align: top;\n",
       "    }\n",
       "\n",
       "    .dataframe thead th {\n",
       "        text-align: right;\n",
       "    }\n",
       "</style>\n",
       "<table border=\"1\" class=\"dataframe\">\n",
       "  <thead>\n",
       "    <tr style=\"text-align: right;\">\n",
       "      <th></th>\n",
       "      <th>price</th>\n",
       "      <th>model_year</th>\n",
       "      <th>model</th>\n",
       "      <th>condition</th>\n",
       "      <th>cylinders</th>\n",
       "      <th>fuel</th>\n",
       "      <th>odometer</th>\n",
       "      <th>transmission</th>\n",
       "      <th>type</th>\n",
       "      <th>paint_color</th>\n",
       "      <th>is_4wd</th>\n",
       "      <th>date_posted</th>\n",
       "      <th>days_listed</th>\n",
       "      <th>year_posted</th>\n",
       "      <th>month_posted</th>\n",
       "      <th>day_posted</th>\n",
       "      <th>years_old</th>\n",
       "      <th>miles_per_year</th>\n",
       "    </tr>\n",
       "  </thead>\n",
       "  <tbody>\n",
       "    <tr>\n",
       "      <th>2</th>\n",
       "      <td>5500</td>\n",
       "      <td>2013</td>\n",
       "      <td>hyundai sonata</td>\n",
       "      <td>5</td>\n",
       "      <td>4</td>\n",
       "      <td>gas</td>\n",
       "      <td>110000.0</td>\n",
       "      <td>automatic</td>\n",
       "      <td>sedan</td>\n",
       "      <td>red</td>\n",
       "      <td>False</td>\n",
       "      <td>2019-02-07</td>\n",
       "      <td>79</td>\n",
       "      <td>2019</td>\n",
       "      <td>2</td>\n",
       "      <td>3</td>\n",
       "      <td>7</td>\n",
       "      <td>15714.285714</td>\n",
       "    </tr>\n",
       "    <tr>\n",
       "      <th>6</th>\n",
       "      <td>12990</td>\n",
       "      <td>2015</td>\n",
       "      <td>toyota camry</td>\n",
       "      <td>4</td>\n",
       "      <td>4</td>\n",
       "      <td>gas</td>\n",
       "      <td>79212.0</td>\n",
       "      <td>automatic</td>\n",
       "      <td>sedan</td>\n",
       "      <td>white</td>\n",
       "      <td>False</td>\n",
       "      <td>2018-12-27</td>\n",
       "      <td>73</td>\n",
       "      <td>2018</td>\n",
       "      <td>12</td>\n",
       "      <td>3</td>\n",
       "      <td>4</td>\n",
       "      <td>19803.000000</td>\n",
       "    </tr>\n",
       "    <tr>\n",
       "      <th>7</th>\n",
       "      <td>15990</td>\n",
       "      <td>2013</td>\n",
       "      <td>honda pilot</td>\n",
       "      <td>4</td>\n",
       "      <td>6</td>\n",
       "      <td>gas</td>\n",
       "      <td>109473.0</td>\n",
       "      <td>automatic</td>\n",
       "      <td>SUV</td>\n",
       "      <td>black</td>\n",
       "      <td>True</td>\n",
       "      <td>2019-01-07</td>\n",
       "      <td>68</td>\n",
       "      <td>2019</td>\n",
       "      <td>1</td>\n",
       "      <td>0</td>\n",
       "      <td>7</td>\n",
       "      <td>15639.000000</td>\n",
       "    </tr>\n",
       "    <tr>\n",
       "      <th>15</th>\n",
       "      <td>17990</td>\n",
       "      <td>2013</td>\n",
       "      <td>ram 1500</td>\n",
       "      <td>4</td>\n",
       "      <td>8</td>\n",
       "      <td>gas</td>\n",
       "      <td>104230.0</td>\n",
       "      <td>automatic</td>\n",
       "      <td>pickup</td>\n",
       "      <td>red</td>\n",
       "      <td>True</td>\n",
       "      <td>2018-05-15</td>\n",
       "      <td>111</td>\n",
       "      <td>2018</td>\n",
       "      <td>5</td>\n",
       "      <td>1</td>\n",
       "      <td>6</td>\n",
       "      <td>17371.666667</td>\n",
       "    </tr>\n",
       "    <tr>\n",
       "      <th>28</th>\n",
       "      <td>29800</td>\n",
       "      <td>2012</td>\n",
       "      <td>chevrolet corvette</td>\n",
       "      <td>4</td>\n",
       "      <td>8</td>\n",
       "      <td>gas</td>\n",
       "      <td>57413.0</td>\n",
       "      <td>automatic</td>\n",
       "      <td>coupe</td>\n",
       "      <td>orange</td>\n",
       "      <td>False</td>\n",
       "      <td>2018-10-22</td>\n",
       "      <td>101</td>\n",
       "      <td>2018</td>\n",
       "      <td>10</td>\n",
       "      <td>0</td>\n",
       "      <td>7</td>\n",
       "      <td>8201.857143</td>\n",
       "    </tr>\n",
       "    <tr>\n",
       "      <th>...</th>\n",
       "      <td>...</td>\n",
       "      <td>...</td>\n",
       "      <td>...</td>\n",
       "      <td>...</td>\n",
       "      <td>...</td>\n",
       "      <td>...</td>\n",
       "      <td>...</td>\n",
       "      <td>...</td>\n",
       "      <td>...</td>\n",
       "      <td>...</td>\n",
       "      <td>...</td>\n",
       "      <td>...</td>\n",
       "      <td>...</td>\n",
       "      <td>...</td>\n",
       "      <td>...</td>\n",
       "      <td>...</td>\n",
       "      <td>...</td>\n",
       "      <td>...</td>\n",
       "    </tr>\n",
       "    <tr>\n",
       "      <th>51498</th>\n",
       "      <td>15900</td>\n",
       "      <td>2011</td>\n",
       "      <td>gmc sierra 1500</td>\n",
       "      <td>4</td>\n",
       "      <td>8</td>\n",
       "      <td>gas</td>\n",
       "      <td>104230.0</td>\n",
       "      <td>automatic</td>\n",
       "      <td>truck</td>\n",
       "      <td>other</td>\n",
       "      <td>True</td>\n",
       "      <td>2019-01-25</td>\n",
       "      <td>69</td>\n",
       "      <td>2019</td>\n",
       "      <td>1</td>\n",
       "      <td>4</td>\n",
       "      <td>9</td>\n",
       "      <td>11581.111111</td>\n",
       "    </tr>\n",
       "    <tr>\n",
       "      <th>51502</th>\n",
       "      <td>7995</td>\n",
       "      <td>2011</td>\n",
       "      <td>chevrolet equinox</td>\n",
       "      <td>5</td>\n",
       "      <td>4</td>\n",
       "      <td>gas</td>\n",
       "      <td>111088.0</td>\n",
       "      <td>automatic</td>\n",
       "      <td>SUV</td>\n",
       "      <td>other</td>\n",
       "      <td>False</td>\n",
       "      <td>2019-04-01</td>\n",
       "      <td>175</td>\n",
       "      <td>2019</td>\n",
       "      <td>4</td>\n",
       "      <td>0</td>\n",
       "      <td>9</td>\n",
       "      <td>12343.111111</td>\n",
       "    </tr>\n",
       "    <tr>\n",
       "      <th>51503</th>\n",
       "      <td>6595</td>\n",
       "      <td>2011</td>\n",
       "      <td>chevrolet malibu</td>\n",
       "      <td>4</td>\n",
       "      <td>4</td>\n",
       "      <td>gas</td>\n",
       "      <td>100780.0</td>\n",
       "      <td>automatic</td>\n",
       "      <td>sedan</td>\n",
       "      <td>other</td>\n",
       "      <td>False</td>\n",
       "      <td>2019-02-27</td>\n",
       "      <td>73</td>\n",
       "      <td>2019</td>\n",
       "      <td>2</td>\n",
       "      <td>2</td>\n",
       "      <td>9</td>\n",
       "      <td>11197.777778</td>\n",
       "    </tr>\n",
       "    <tr>\n",
       "      <th>51519</th>\n",
       "      <td>11750</td>\n",
       "      <td>2015</td>\n",
       "      <td>honda accord</td>\n",
       "      <td>4</td>\n",
       "      <td>4</td>\n",
       "      <td>gas</td>\n",
       "      <td>104230.0</td>\n",
       "      <td>automatic</td>\n",
       "      <td>coupe</td>\n",
       "      <td>other</td>\n",
       "      <td>False</td>\n",
       "      <td>2018-11-24</td>\n",
       "      <td>89</td>\n",
       "      <td>2018</td>\n",
       "      <td>11</td>\n",
       "      <td>5</td>\n",
       "      <td>4</td>\n",
       "      <td>26057.500000</td>\n",
       "    </tr>\n",
       "    <tr>\n",
       "      <th>51523</th>\n",
       "      <td>7455</td>\n",
       "      <td>2013</td>\n",
       "      <td>toyota corolla</td>\n",
       "      <td>3</td>\n",
       "      <td>4</td>\n",
       "      <td>gas</td>\n",
       "      <td>139573.0</td>\n",
       "      <td>automatic</td>\n",
       "      <td>sedan</td>\n",
       "      <td>black</td>\n",
       "      <td>False</td>\n",
       "      <td>2018-07-02</td>\n",
       "      <td>71</td>\n",
       "      <td>2018</td>\n",
       "      <td>7</td>\n",
       "      <td>0</td>\n",
       "      <td>6</td>\n",
       "      <td>23262.166667</td>\n",
       "    </tr>\n",
       "  </tbody>\n",
       "</table>\n",
       "<p>6994 rows × 18 columns</p>\n",
       "</div>"
      ],
      "text/plain": [
       "       price  model_year               model  condition  cylinders fuel  \\\n",
       "2       5500        2013      hyundai sonata          5          4  gas   \n",
       "6      12990        2015        toyota camry          4          4  gas   \n",
       "7      15990        2013         honda pilot          4          6  gas   \n",
       "15     17990        2013            ram 1500          4          8  gas   \n",
       "28     29800        2012  chevrolet corvette          4          8  gas   \n",
       "...      ...         ...                 ...        ...        ...  ...   \n",
       "51498  15900        2011     gmc sierra 1500          4          8  gas   \n",
       "51502   7995        2011   chevrolet equinox          5          4  gas   \n",
       "51503   6595        2011    chevrolet malibu          4          4  gas   \n",
       "51519  11750        2015        honda accord          4          4  gas   \n",
       "51523   7455        2013      toyota corolla          3          4  gas   \n",
       "\n",
       "       odometer transmission    type paint_color  is_4wd date_posted  \\\n",
       "2      110000.0    automatic   sedan         red   False  2019-02-07   \n",
       "6       79212.0    automatic   sedan       white   False  2018-12-27   \n",
       "7      109473.0    automatic     SUV       black    True  2019-01-07   \n",
       "15     104230.0    automatic  pickup         red    True  2018-05-15   \n",
       "28      57413.0    automatic   coupe      orange   False  2018-10-22   \n",
       "...         ...          ...     ...         ...     ...         ...   \n",
       "51498  104230.0    automatic   truck       other    True  2019-01-25   \n",
       "51502  111088.0    automatic     SUV       other   False  2019-04-01   \n",
       "51503  100780.0    automatic   sedan       other   False  2019-02-27   \n",
       "51519  104230.0    automatic   coupe       other   False  2018-11-24   \n",
       "51523  139573.0    automatic   sedan       black   False  2018-07-02   \n",
       "\n",
       "       days_listed  year_posted  month_posted  day_posted  years_old  \\\n",
       "2               79         2019             2           3          7   \n",
       "6               73         2018            12           3          4   \n",
       "7               68         2019             1           0          7   \n",
       "15             111         2018             5           1          6   \n",
       "28             101         2018            10           0          7   \n",
       "...            ...          ...           ...         ...        ...   \n",
       "51498           69         2019             1           4          9   \n",
       "51502          175         2019             4           0          9   \n",
       "51503           73         2019             2           2          9   \n",
       "51519           89         2018            11           5          4   \n",
       "51523           71         2018             7           0          6   \n",
       "\n",
       "       miles_per_year  \n",
       "2        15714.285714  \n",
       "6        19803.000000  \n",
       "7        15639.000000  \n",
       "15       17371.666667  \n",
       "28        8201.857143  \n",
       "...               ...  \n",
       "51498    11581.111111  \n",
       "51502    12343.111111  \n",
       "51503    11197.777778  \n",
       "51519    26057.500000  \n",
       "51523    23262.166667  \n",
       "\n",
       "[6994 rows x 18 columns]"
      ]
     },
     "execution_count": 68,
     "metadata": {},
     "output_type": "execute_result"
    }
   ],
   "source": [
    "slow_ads"
   ]
  },
  {
   "cell_type": "markdown",
   "metadata": {},
   "source": [
    "Veamos la diferencia entre nuestros valores calculados:\n",
    "\n",
    "1. Anuncios rápidos: 98805\n",
    "2. Anuncios anormalmente rápidos: 24364\n",
    "3. Anuncios lentos: 82075\n",
    "4. Anuncios anormalmente lentos: 29540"
   ]
  },
  {
   "cell_type": "markdown",
   "metadata": {},
   "source": [
    "## Precio promedio por cada tipo de vehículo"
   ]
  },
  {
   "cell_type": "markdown",
   "metadata": {},
   "source": [
    "Analicemos el número de anuncios y el precio promedio para cada tipo de vehículo."
   ]
  },
  {
   "cell_type": "code",
   "execution_count": 69,
   "metadata": {
    "scrolled": true
   },
   "outputs": [
    {
     "name": "stdout",
     "output_type": "stream",
     "text": [
      "Número de anuncios por cada tipo de vehículo\n",
      "type\n",
      "sedan          11973\n",
      "SUV            11803\n",
      "truck          10964\n",
      "pickup          6174\n",
      "coupe           1974\n",
      "wagon           1498\n",
      "mini-van        1140\n",
      "hatchback       1004\n",
      "van              578\n",
      "convertible      332\n",
      "other            232\n",
      "offroad          176\n",
      "bus               21\n",
      "Name: price, dtype: int64\n",
      "------------------------------\n",
      "Precio promedio por cada tipo de vehículo\n",
      "type\n",
      "bus            18107.428571\n",
      "truck          15254.015505\n",
      "pickup         15243.399417\n",
      "offroad        14626.517045\n",
      "coupe          13701.340426\n",
      "convertible    13195.617470\n",
      "other          10578.956897\n",
      "SUV            10510.221723\n",
      "wagon           9002.680908\n",
      "van             8889.480969\n",
      "mini-van        8078.740351\n",
      "sedan           6993.489435\n",
      "hatchback       6842.271912\n",
      "Name: price, dtype: float64\n"
     ]
    }
   ],
   "source": [
    "grouped_type = df_filtered.groupby('type')\n",
    "\n",
    "count_type = grouped_type['price'].count()\n",
    "media_price = grouped_type['price'].mean()\n",
    "\n",
    "print('Número de anuncios por cada tipo de vehículo')\n",
    "print(count_type.sort_values(ascending=False))\n",
    "print('-'*30)\n",
    "print('Precio promedio por cada tipo de vehículo')\n",
    "print(media_price.sort_values(ascending=False))"
   ]
  },
  {
   "cell_type": "code",
   "execution_count": 70,
   "metadata": {
    "scrolled": true
   },
   "outputs": [
    {
     "data": {
      "text/plain": [
       "Text(0, 0.5, 'Number of ads')"
      ]
     },
     "execution_count": 70,
     "metadata": {},
     "output_type": "execute_result"
    },
    {
     "data": {
      "image/png": "[encoded data removed]",
      "text/plain": [
       "<Figure size 432x288 with 1 Axes>"
      ]
     },
     "metadata": {
      "needs_background": "light"
     },
     "output_type": "display_data"
    }
   ],
   "source": [
    "count_type_sorted = count_type.sort_values(ascending=False)\n",
    "count_type_sorted.plot(kind='bar')\n",
    "plt.xlabel('Type')\n",
    "plt.ylabel('Number of ads')"
   ]
  },
  {
   "cell_type": "markdown",
   "metadata": {},
   "source": [
    "Con estos datos podemos ver que los **Sedan** y las **SUV** son los vehículos con mas anuncions publicados"
   ]
  },
  {
   "cell_type": "markdown",
   "metadata": {},
   "source": [
    "## Factores de precio"
   ]
  },
  {
   "cell_type": "markdown",
   "metadata": {},
   "source": [
    "Filtremos nuestros datos para seleccionar solamente los tipo 'sedan' y 'suv' para buscar la relación que tienen los precios con la edad, millaje y condición."
   ]
  },
  {
   "cell_type": "code",
   "execution_count": 71,
   "metadata": {},
   "outputs": [],
   "source": [
    "df_price = df_filtered[(df_filtered['type'] == 'sedan') | (df_filtered['type'] == 'SUV')]"
   ]
  },
  {
   "cell_type": "code",
   "execution_count": 72,
   "metadata": {
    "scrolled": false
   },
   "outputs": [],
   "source": [
    "values = ['price', 'model_year', 'odometer', 'condition', 'type']\n",
    "sedan_suv_data = df_price[values]"
   ]
  },
  {
   "cell_type": "code",
   "execution_count": 73,
   "metadata": {},
   "outputs": [
    {
     "data": {
      "image/png": "[encoded data removed]",
      "text/plain": [
       "<Figure size 864x864 with 16 Axes>"
      ]
     },
     "metadata": {
      "needs_background": "light"
     },
     "output_type": "display_data"
    }
   ],
   "source": [
    "scatter_matrix(sedan_suv_data, figsize=(12, 12), diagonal='hist')\n",
    "plt.show()"
   ]
  },
  {
   "cell_type": "code",
   "execution_count": 74,
   "metadata": {
    "scrolled": true
   },
   "outputs": [
    {
     "data": {
      "text/html": [
       "<div>\n",
       "<style scoped>\n",
       "    .dataframe tbody tr th:only-of-type {\n",
       "        vertical-align: middle;\n",
       "    }\n",
       "\n",
       "    .dataframe tbody tr th {\n",
       "        vertical-align: top;\n",
       "    }\n",
       "\n",
       "    .dataframe thead th {\n",
       "        text-align: right;\n",
       "    }\n",
       "</style>\n",
       "<table border=\"1\" class=\"dataframe\">\n",
       "  <thead>\n",
       "    <tr style=\"text-align: right;\">\n",
       "      <th></th>\n",
       "      <th>price</th>\n",
       "      <th>model_year</th>\n",
       "      <th>odometer</th>\n",
       "      <th>condition</th>\n",
       "    </tr>\n",
       "  </thead>\n",
       "  <tbody>\n",
       "    <tr>\n",
       "      <th>price</th>\n",
       "      <td>1.000000</td>\n",
       "      <td>0.518711</td>\n",
       "      <td>-0.432365</td>\n",
       "      <td>0.245928</td>\n",
       "    </tr>\n",
       "    <tr>\n",
       "      <th>model_year</th>\n",
       "      <td>0.518711</td>\n",
       "      <td>1.000000</td>\n",
       "      <td>-0.560206</td>\n",
       "      <td>0.297707</td>\n",
       "    </tr>\n",
       "    <tr>\n",
       "      <th>odometer</th>\n",
       "      <td>-0.432365</td>\n",
       "      <td>-0.560206</td>\n",
       "      <td>1.000000</td>\n",
       "      <td>-0.350338</td>\n",
       "    </tr>\n",
       "    <tr>\n",
       "      <th>condition</th>\n",
       "      <td>0.245928</td>\n",
       "      <td>0.297707</td>\n",
       "      <td>-0.350338</td>\n",
       "      <td>1.000000</td>\n",
       "    </tr>\n",
       "  </tbody>\n",
       "</table>\n",
       "</div>"
      ],
      "text/plain": [
       "               price  model_year  odometer  condition\n",
       "price       1.000000    0.518711 -0.432365   0.245928\n",
       "model_year  0.518711    1.000000 -0.560206   0.297707\n",
       "odometer   -0.432365   -0.560206  1.000000  -0.350338\n",
       "condition   0.245928    0.297707 -0.350338   1.000000"
      ]
     },
     "execution_count": 74,
     "metadata": {},
     "output_type": "execute_result"
    }
   ],
   "source": [
    "corr_matrix = df_price[['price', 'model_year', 'odometer', 'condition']].corr()\n",
    "corr_matrix"
   ]
  },
  {
   "cell_type": "markdown",
   "metadata": {},
   "source": [
    "Podemos ver que el precio esta relacionado directament con estas tres variables, sin embargo la variable que mas afecta al precio es **la edad del vehículo**, entre mas nuevo sea, mayor será el precio, al igual que la condición. En caso del millaje, sucede al revés. Entre más millaje tenga el vehíclo, menor será el precio"
   ]
  },
  {
   "cell_type": "markdown",
   "metadata": {},
   "source": [
    "Ahora crearemos gráficos de caja y bigotes para buscar relación entre las variables **'transmission' y 'paint_color'** con el precio."
   ]
  },
  {
   "cell_type": "code",
   "execution_count": 75,
   "metadata": {},
   "outputs": [],
   "source": [
    "df_sedan = df_filtered.loc[df_filtered['type'] == 'sedan']\n",
    "df_suv = df_filtered.loc[df_filtered['type'] == 'SUV']"
   ]
  },
  {
   "cell_type": "code",
   "execution_count": 76,
   "metadata": {
    "scrolled": true
   },
   "outputs": [
    {
     "data": {
      "text/plain": [
       "<AxesSubplot:xlabel='transmission', ylabel='price'>"
      ]
     },
     "execution_count": 76,
     "metadata": {},
     "output_type": "execute_result"
    },
    {
     "data": {
      "image/png": "[encoded data removed]",
      "text/plain": [
       "<Figure size 432x288 with 1 Axes>"
      ]
     },
     "metadata": {
      "needs_background": "light"
     },
     "output_type": "display_data"
    }
   ],
   "source": [
    "sb.boxplot(x='transmission', y='price', data=df_sedan)"
   ]
  },
  {
   "cell_type": "code",
   "execution_count": 77,
   "metadata": {
    "scrolled": true
   },
   "outputs": [
    {
     "data": {
      "text/plain": [
       "<AxesSubplot:xlabel='transmission', ylabel='price'>"
      ]
     },
     "execution_count": 77,
     "metadata": {},
     "output_type": "execute_result"
    },
    {
     "data": {
      "image/png": "[encoded data removed]",
      "text/plain": [
       "<Figure size 432x288 with 1 Axes>"
      ]
     },
     "metadata": {
      "needs_background": "light"
     },
     "output_type": "display_data"
    }
   ],
   "source": [
    "sb.boxplot(x='transmission', y='price', data=df_suv)"
   ]
  },
  {
   "cell_type": "code",
   "execution_count": 78,
   "metadata": {},
   "outputs": [
    {
     "data": {
      "image/png": "[encoded data removed]",
      "text/plain": [
       "<Figure size 864x432 with 1 Axes>"
      ]
     },
     "metadata": {
      "needs_background": "light"
     },
     "output_type": "display_data"
    }
   ],
   "source": [
    "plt.figure(figsize=(12, 6))\n",
    "sb.boxplot(x='paint_color', y='price', data=df_sedan)\n",
    "plt.xticks(fontsize=12)\n",
    "plt.show()"
   ]
  },
  {
   "cell_type": "code",
   "execution_count": 79,
   "metadata": {
    "scrolled": false
   },
   "outputs": [
    {
     "data": {
      "image/png": "[encoded data removed]",
      "text/plain": [
       "<Figure size 864x432 with 1 Axes>"
      ]
     },
     "metadata": {
      "needs_background": "light"
     },
     "output_type": "display_data"
    }
   ],
   "source": [
    "plt.figure(figsize=(12, 6))\n",
    "sb.boxplot(x='paint_color', y='price', data=df_suv)\n",
    "plt.show()"
   ]
  },
  {
   "cell_type": "markdown",
   "metadata": {},
   "source": [
    "Después de analizar los datos, podemos concluir que las variables **transmission** y **paint_color** no tenien relación directa con el precio de los vehículos. Sin embargo esto no quiere decir que no afecte, solamente no es tan significativo su impacto en el precio como lo pueden ser otras variables como la edad y el millaje del vehículo."
   ]
  },
  {
   "cell_type": "markdown",
   "metadata": {},
   "source": [
    "## Conclusión general"
   ]
  },
  {
   "cell_type": "markdown",
   "metadata": {},
   "source": [
    "El objetivo de este proyecto fue estudiar los datos recopilados durante los últimos años y determinar qué factores influyen en el precio de un vehículo. Al comenzar nuestro analisís de l información, nos dimos cuenta que teníamos valores nulos de manera aleatoria, es decir, no habia ninguna relación entre estos datos faltantes, por lo que decidimos tratarlos de la siguiente manera: En las columnas **'model_year' y 'cylinders'** decidimos eliminarlos, ya que no representaban una cantidad significativa para nuestro análisis, en la columna **'odometer'** decidimos rellenar esos valores ausentes con la mediana del conjunto de datos de la misma columna. En la columna **'paint_color'** decidimos crear una categoria nueva **'other'** en representación a otros colores no especificados. En la columna **'is_4wd'** rellenamos los valores nulos con '0' ya que concluimos que al estar estos datos ausentes, significa que no contaban con tracción en las 4 ruedas.\n",
    "\n",
    "Después, corregimos el tipo de datos, las columnas **'model_year'**, **'cylinders'** y **'is_4wd'** las tratamos para que los datos dentro de estas fueran números enteros. Y en la columna **'date_posted'** tratamos sus valores para tenerlos con tipo **datetime**.\n",
    "\n",
    "A continuación pasamos a enriquecer los datos para facilitar el análisis. Agregamos valores de fechas (año, mes y día) para ver cuando se colocó cada anuncio.\n",
    "\n",
    "En la columna **'condition'** creamos categorias para facilitar su trato al convertirlos en valores numéricos y no booleanos **(salvage = 1, fair = 2...) **\n",
    "\n",
    "Al analizar los datos mas a fondo, nos dimos cuenta que había una cantidad de valores atípicos considerables, por lo que nos dimos a la tarea de tratarlos.\n",
    "\n",
    "Seguimos con el análisis para determinar el tiempo de duración de los anuncios activos. Con este an+alisis concluimos que un anuncio en promedio dura **1 mes activo** y el tipo de vehículos con mayor cantidad de anuncios activos fueron los **sedan**.\n",
    "\n",
    "Para concluir, al continuar estudiando los datos, acercandonos al tema del precio de los vehículos, nos dimos cuenta que **la edad del vehículo** es el factor con **mayor relación** al valor del vehículo, seguida del **millaje, condición, cilindraje y trnasmisión**."
   ]
  }
 ],
 "metadata": {
  "ExecuteTimeLog": [
   {
    "duration": 828,
    "start_time": "2021-11-16T09:21:11.304Z"
   },
   {
    "duration": 893,
    "start_time": "2021-11-16T09:21:17.728Z"
   },
   {
    "duration": 1150,
    "start_time": "2021-11-16T09:21:29.568Z"
   },
   {
    "duration": 3,
    "start_time": "2021-11-16T09:24:14.495Z"
   },
   {
    "duration": 120,
    "start_time": "2021-11-16T09:24:46.630Z"
   },
   {
    "duration": 3,
    "start_time": "2021-11-16T09:28:27.882Z"
   },
   {
    "duration": 4,
    "start_time": "2021-11-16T09:29:54.281Z"
   },
   {
    "duration": 3,
    "start_time": "2021-11-16T09:30:45.936Z"
   },
   {
    "duration": 4,
    "start_time": "2021-11-16T09:31:06.300Z"
   },
   {
    "duration": 113,
    "start_time": "2021-11-16T09:31:37.208Z"
   },
   {
    "duration": 143,
    "start_time": "2021-11-16T09:31:48.656Z"
   },
   {
    "duration": 98,
    "start_time": "2021-11-16T09:31:55.678Z"
   },
   {
    "duration": 3,
    "start_time": "2021-11-16T09:32:08.535Z"
   },
   {
    "duration": 111,
    "start_time": "2021-11-16T09:32:10.120Z"
   },
   {
    "duration": 3,
    "start_time": "2021-11-16T09:32:15.732Z"
   },
   {
    "duration": 4,
    "start_time": "2021-11-16T09:32:29.423Z"
   },
   {
    "duration": 3,
    "start_time": "2021-11-16T10:03:03.074Z"
   },
   {
    "duration": 3,
    "start_time": "2021-11-16T10:10:01.288Z"
   },
   {
    "duration": 3,
    "start_time": "2021-11-16T10:10:46.923Z"
   },
   {
    "duration": 121,
    "start_time": "2021-11-16T10:37:46.494Z"
   },
   {
    "duration": 125,
    "start_time": "2021-11-16T10:38:20.632Z"
   },
   {
    "duration": 112,
    "start_time": "2021-11-16T10:46:53.001Z"
   },
   {
    "duration": 110,
    "start_time": "2021-11-16T10:48:25.775Z"
   },
   {
    "duration": 3,
    "start_time": "2021-11-16T10:50:18.720Z"
   },
   {
    "duration": 4,
    "start_time": "2021-11-16T10:50:37.649Z"
   },
   {
    "duration": 2,
    "start_time": "2021-11-16T10:50:51.884Z"
   },
   {
    "duration": 3,
    "start_time": "2021-11-16T10:51:56.237Z"
   },
   {
    "duration": 101,
    "start_time": "2021-11-16T10:53:13.791Z"
   },
   {
    "duration": 3,
    "start_time": "2021-11-16T10:55:59.186Z"
   },
   {
    "duration": 3,
    "start_time": "2021-11-16T10:56:10.751Z"
   },
   {
    "duration": 3,
    "start_time": "2021-11-16T10:56:49.038Z"
   },
   {
    "duration": 3,
    "start_time": "2021-11-16T10:56:49.174Z"
   },
   {
    "duration": 4,
    "start_time": "2021-11-16T10:56:49.414Z"
   },
   {
    "duration": 3,
    "start_time": "2021-11-16T10:56:49.680Z"
   },
   {
    "duration": 3,
    "start_time": "2021-11-16T10:56:50.370Z"
   },
   {
    "duration": 114,
    "start_time": "2021-11-16T10:59:34.518Z"
   },
   {
    "duration": 3,
    "start_time": "2021-11-16T11:01:41.201Z"
   },
   {
    "duration": 116,
    "start_time": "2021-11-16T11:01:48.754Z"
   },
   {
    "duration": 3,
    "start_time": "2021-11-16T11:02:16.685Z"
   },
   {
    "duration": 3,
    "start_time": "2021-11-16T11:02:19.479Z"
   },
   {
    "duration": 3,
    "start_time": "2021-11-16T11:02:47.067Z"
   },
   {
    "duration": 3,
    "start_time": "2021-11-16T11:02:49.353Z"
   },
   {
    "duration": 3,
    "start_time": "2021-11-16T11:03:07.835Z"
   },
   {
    "duration": 3,
    "start_time": "2021-11-16T11:03:07.953Z"
   },
   {
    "duration": 112,
    "start_time": "2021-11-16T11:07:52.072Z"
   },
   {
    "duration": 187,
    "start_time": "2021-11-16T11:09:23.468Z"
   },
   {
    "duration": 4,
    "start_time": "2021-11-16T11:10:01.455Z"
   },
   {
    "duration": 3,
    "start_time": "2021-11-16T11:10:05.069Z"
   },
   {
    "duration": 4,
    "start_time": "2021-11-16T11:10:13.376Z"
   },
   {
    "duration": 3,
    "start_time": "2021-11-16T11:10:14.434Z"
   },
   {
    "duration": 3,
    "start_time": "2021-11-16T11:10:22.853Z"
   },
   {
    "duration": 4,
    "start_time": "2021-11-16T11:27:29.279Z"
   },
   {
    "duration": 4,
    "start_time": "2021-11-16T11:29:08.919Z"
   },
   {
    "duration": 118,
    "start_time": "2021-11-16T11:29:46.703Z"
   },
   {
    "duration": 437,
    "start_time": "2021-11-16T11:36:02.181Z"
   },
   {
    "duration": 157,
    "start_time": "2021-11-16T11:36:14.388Z"
   },
   {
    "duration": 207,
    "start_time": "2021-11-16T11:47:15.898Z"
   },
   {
    "duration": 3,
    "start_time": "2021-11-16T11:53:52.092Z"
   },
   {
    "duration": 3,
    "start_time": "2021-11-16T11:53:52.236Z"
   },
   {
    "duration": 3,
    "start_time": "2021-11-16T11:59:12.005Z"
   },
   {
    "duration": 112,
    "start_time": "2021-11-16T12:00:33.446Z"
   },
   {
    "duration": 3,
    "start_time": "2021-11-16T12:02:14.453Z"
   },
   {
    "duration": 3,
    "start_time": "2021-11-16T12:02:39.512Z"
   },
   {
    "duration": 106,
    "start_time": "2021-11-16T12:03:03.460Z"
   }
  ],
  "kernelspec": {
   "display_name": "Python 3 (ipykernel)",
   "language": "python",
   "name": "python3"
  },
  "language_info": {
   "codemirror_mode": {
    "name": "ipython",
    "version": 3
   },
   "file_extension": ".py",
   "mimetype": "text/x-python",
   "name": "python",
   "nbconvert_exporter": "python",
   "pygments_lexer": "ipython3",
   "version": "3.9.5"
  },
  "toc": {
   "base_numbering": 1,
   "nav_menu": {},
   "number_sections": true,
   "sideBar": true,
   "skip_h1_title": false,
   "title_cell": "Table of Contents",
   "title_sidebar": "Contents",
   "toc_cell": false,
   "toc_position": {
    "height": "calc(100% - 180px)",
    "left": "10px",
    "top": "150px",
    "width": "165px"
   },
   "toc_section_display": true,
   "toc_window_display": false
  }
 },
 "nbformat": 4,
 "nbformat_minor": 2
}
